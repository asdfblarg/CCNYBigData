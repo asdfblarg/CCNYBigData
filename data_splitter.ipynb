{
 "cells": [
  {
   "cell_type": "code",
   "execution_count": 4,
   "metadata": {},
   "outputs": [
    {
     "data": {
      "text/plain": [
       "<pyspark.context.SparkContext at 0x4656610>"
      ]
     },
     "execution_count": 4,
     "metadata": {},
     "output_type": "execute_result"
    }
   ],
   "source": [
    "sc"
   ]
  },
  {
   "cell_type": "code",
   "execution_count": 5,
   "metadata": {
    "collapsed": true
   },
   "outputs": [],
   "source": [
    "import csv"
   ]
  },
  {
   "cell_type": "code",
   "execution_count": 28,
   "metadata": {
    "collapsed": true
   },
   "outputs": [],
   "source": [
    "data =  sc.textFile('coalesce_joined_weather_collisions_sorted_fixed.csv')\n",
    "df = spark.read.load('coalesce_joined_weather_collisions_sorted_fixed.csv', format='csv', header=True, inferSchema=False)\n",
    "\n",
    "\n",
    "df.registerTempTable('df')"
   ]
  },
  {
   "cell_type": "code",
   "execution_count": 14,
   "metadata": {},
   "outputs": [
    {
     "data": {
      "text/plain": [
       "[Row(BOROUGH=u'QUEENS', CONTRIBUTING_FACTOR_VEHICLE_1=u'Unspecified', CONTRIBUTING_FACTOR_VEHICLE_2=u'Unspecified', CONTRIBUTING_FACTOR_VEHICLE_3=None, CONTRIBUTING_FACTOR_VEHICLE_4=None, CONTRIBUTING_FACTOR_VEHICLE_5=None, CROSS_STREET_NAME=u'70 DRIVE', DATETIME=datetime.datetime(2016, 6, 20, 21, 6), LATITUDE=None, LOCATION=None, LONGITUDE=None, NUMBER_OF_CYCLIST_INJURED=0, NUMBER_OF_CYCLIST_KILLED=0, NUMBER_OF_MOTORIST_INJURED=0, NUMBER_OF_MOTORIST_KILLED=0, NUMBER_OF_PEDESTRIANS_INJURED=0, NUMBER_OF_PEDESTRIANS_KILLED=0, NUMBER_OF_PERSONS_INJURED=0, NUMBER_OF_PERSONS_KILLED=0, OFF_STREET_NAME=None, ON_STREET_NAME=u'METROPOLITAN AVENUE', UNIQUE_KEY=3465402, VEHICLE_TYPE_CODE_1=u'PASSENGER VEHICLE', VEHICLE_TYPE_CODE_2=u'PASSENGER VEHICLE', VEHICLE_TYPE_CODE_3=None, VEHICLE_TYPE_CODE_4=None, VEHICLE_TYPE_CODE_5=None, ZIP_CODE=11375, _c28=58671, Conditions=u'Clear', DateUTC=datetime.datetime(2016, 6, 21, 1, 51), DatetimeEDT=datetime.datetime(2016, 6, 20, 21, 51), Dew_PointF=63.0, Events=None, Foggy=1, Freezing=0, Gust_SpeedMPH=u'-', Humidity=u'60', PrecipitationIn=u'N/A', Rain=0, Sea_Level_PressureIn=29.91, Snow=0, TemperatureF=78.1, TimeEDT=u'9:51 PM', VisibilityMPH=9.0, WindDirDegrees=0, Wind_Direction=u'Calm', Wind_SpeedMPH=u'Calm', Windy=0),\n",
       " Row(BOROUGH=u'BROOKLYN', CONTRIBUTING_FACTOR_VEHICLE_1=u'Unspecified', CONTRIBUTING_FACTOR_VEHICLE_2=None, CONTRIBUTING_FACTOR_VEHICLE_3=None, CONTRIBUTING_FACTOR_VEHICLE_4=None, CONTRIBUTING_FACTOR_VEHICLE_5=None, CROSS_STREET_NAME=u'HERKIMER STREET', DATETIME=datetime.datetime(2016, 7, 1, 17, 7), LATITUDE=None, LOCATION=None, LONGITUDE=None, NUMBER_OF_CYCLIST_INJURED=0, NUMBER_OF_CYCLIST_KILLED=0, NUMBER_OF_MOTORIST_INJURED=0, NUMBER_OF_MOTORIST_KILLED=0, NUMBER_OF_PEDESTRIANS_INJURED=1, NUMBER_OF_PEDESTRIANS_KILLED=0, NUMBER_OF_PERSONS_INJURED=1, NUMBER_OF_PERSONS_KILLED=0, OFF_STREET_NAME=None, ON_STREET_NAME=u'EASTERN PARKWAY', UNIQUE_KEY=3494165, VEHICLE_TYPE_CODE_1=u'MOTORCYCLE', VEHICLE_TYPE_CODE_2=None, VEHICLE_TYPE_CODE_3=None, VEHICLE_TYPE_CODE_4=None, VEHICLE_TYPE_CODE_5=None, ZIP_CODE=11233, _c28=58975, Conditions=u'Light Rain', DateUTC=datetime.datetime(2016, 7, 1, 21, 34), DatetimeEDT=datetime.datetime(2016, 7, 1, 17, 34), Dew_PointF=66.9, Events=u'Rain', Foggy=1, Freezing=0, Gust_SpeedMPH=u'-', Humidity=u'84', PrecipitationIn=u'0.01', Rain=1, Sea_Level_PressureIn=29.9, Snow=0, TemperatureF=72.0, TimeEDT=u'5:34 PM', VisibilityMPH=1.8, WindDirDegrees=0, Wind_Direction=u'Variable', Wind_SpeedMPH=u'4.6', Windy=0)]"
      ]
     },
     "execution_count": 14,
     "metadata": {},
     "output_type": "execute_result"
    }
   ],
   "source": [
    "df.take(2)"
   ]
  },
  {
   "cell_type": "code",
   "execution_count": 29,
   "metadata": {},
   "outputs": [
    {
     "data": {
      "text/plain": [
       "[('BOROUGH', 'string'),\n",
       " ('CONTRIBUTING_FACTOR_VEHICLE_1', 'string'),\n",
       " ('CONTRIBUTING_FACTOR_VEHICLE_2', 'string'),\n",
       " ('CONTRIBUTING_FACTOR_VEHICLE_3', 'string'),\n",
       " ('CONTRIBUTING_FACTOR_VEHICLE_4', 'string'),\n",
       " ('CONTRIBUTING_FACTOR_VEHICLE_5', 'string'),\n",
       " ('CROSS_STREET_NAME', 'string'),\n",
       " ('DATETIME', 'string'),\n",
       " ('LATITUDE', 'string'),\n",
       " ('LOCATION', 'string'),\n",
       " ('LONGITUDE', 'string'),\n",
       " ('NUMBER_OF_CYCLIST_INJURED', 'string'),\n",
       " ('NUMBER_OF_CYCLIST_KILLED', 'string'),\n",
       " ('NUMBER_OF_MOTORIST_INJURED', 'string'),\n",
       " ('NUMBER_OF_MOTORIST_KILLED', 'string'),\n",
       " ('NUMBER_OF_PEDESTRIANS_INJURED', 'string'),\n",
       " ('NUMBER_OF_PEDESTRIANS_KILLED', 'string'),\n",
       " ('NUMBER_OF_PERSONS_INJURED', 'string'),\n",
       " ('NUMBER_OF_PERSONS_KILLED', 'string'),\n",
       " ('OFF_STREET_NAME', 'string'),\n",
       " ('ON_STREET_NAME', 'string'),\n",
       " ('UNIQUE_KEY', 'string'),\n",
       " ('VEHICLE_TYPE_CODE_1', 'string'),\n",
       " ('VEHICLE_TYPE_CODE_2', 'string'),\n",
       " ('VEHICLE_TYPE_CODE_3', 'string'),\n",
       " ('VEHICLE_TYPE_CODE_4', 'string'),\n",
       " ('VEHICLE_TYPE_CODE_5', 'string'),\n",
       " ('ZIP_CODE', 'string'),\n",
       " ('_c28', 'string'),\n",
       " ('Conditions', 'string'),\n",
       " ('DateUTC', 'string'),\n",
       " ('DatetimeEDT', 'string'),\n",
       " ('Dew_PointF', 'string'),\n",
       " ('Events', 'string'),\n",
       " ('Freezing', 'string'),\n",
       " ('Gust_SpeedMPH', 'string'),\n",
       " ('Humidity', 'string'),\n",
       " ('LowVisibility', 'string'),\n",
       " ('PrecipitationIn', 'string'),\n",
       " ('Rain', 'string'),\n",
       " ('Sea_Level_PressureIn', 'string'),\n",
       " ('Snow', 'string'),\n",
       " ('TemperatureF', 'string'),\n",
       " ('TimeEDT', 'string'),\n",
       " ('VisibilityMPH', 'string'),\n",
       " ('WindDirDegrees', 'string'),\n",
       " ('Wind_Direction', 'string'),\n",
       " ('Wind_SpeedMPH', 'string'),\n",
       " ('Windy', 'string')]"
      ]
     },
     "execution_count": 29,
     "metadata": {},
     "output_type": "execute_result"
    }
   ],
   "source": [
    "df.dtypes"
   ]
  },
  {
   "cell_type": "code",
   "execution_count": 21,
   "metadata": {},
   "outputs": [
    {
     "data": {
      "text/plain": [
       "[Row(BOROUGH=u'QUEENS', CONTRIBUTING_FACTOR_VEHICLE_1=u'Unspecified', CONTRIBUTING_FACTOR_VEHICLE_2=u'Unspecified', CONTRIBUTING_FACTOR_VEHICLE_3=None, CONTRIBUTING_FACTOR_VEHICLE_4=None, CONTRIBUTING_FACTOR_VEHICLE_5=None, CROSS_STREET_NAME=u'70 DRIVE', DATETIME=datetime.datetime(2016, 6, 20, 21, 6), LATITUDE=None, LOCATION=None, LONGITUDE=None, NUMBER_OF_CYCLIST_INJURED=0, NUMBER_OF_CYCLIST_KILLED=0, NUMBER_OF_MOTORIST_INJURED=0, NUMBER_OF_MOTORIST_KILLED=0, NUMBER_OF_PEDESTRIANS_INJURED=0, NUMBER_OF_PEDESTRIANS_KILLED=0, NUMBER_OF_PERSONS_INJURED=0, NUMBER_OF_PERSONS_KILLED=0, OFF_STREET_NAME=None, ON_STREET_NAME=u'METROPOLITAN AVENUE', UNIQUE_KEY=3465402, VEHICLE_TYPE_CODE_1=u'PASSENGER VEHICLE', VEHICLE_TYPE_CODE_2=u'PASSENGER VEHICLE', VEHICLE_TYPE_CODE_3=None, VEHICLE_TYPE_CODE_4=None, VEHICLE_TYPE_CODE_5=None, ZIP_CODE=11375, _c28=58671, Conditions=u'Clear', DateUTC=datetime.datetime(2016, 6, 21, 1, 51), DatetimeEDT=datetime.datetime(2016, 6, 20, 21, 51), Dew_PointF=0.0, Events=None, Foggy=1, Freezing=0, Gust_SpeedMPH=u'-', Humidity=u'60', PrecipitationIn=u'N/A', Rain=0, Sea_Level_PressureIn=29.91, Snow=0, TemperatureF=78.1, TimeEDT=u'9:51 PM', VisibilityMPH=9.0, WindDirDegrees=0, Wind_Direction=u'Calm', Wind_SpeedMPH=u'Calm', Windy=0),\n",
       " Row(BOROUGH=u'BROOKLYN', CONTRIBUTING_FACTOR_VEHICLE_1=u'Unspecified', CONTRIBUTING_FACTOR_VEHICLE_2=None, CONTRIBUTING_FACTOR_VEHICLE_3=None, CONTRIBUTING_FACTOR_VEHICLE_4=None, CONTRIBUTING_FACTOR_VEHICLE_5=None, CROSS_STREET_NAME=u'HERKIMER STREET', DATETIME=datetime.datetime(2016, 7, 1, 17, 7), LATITUDE=None, LOCATION=None, LONGITUDE=None, NUMBER_OF_CYCLIST_INJURED=0, NUMBER_OF_CYCLIST_KILLED=0, NUMBER_OF_MOTORIST_INJURED=0, NUMBER_OF_MOTORIST_KILLED=0, NUMBER_OF_PEDESTRIANS_INJURED=1, NUMBER_OF_PEDESTRIANS_KILLED=0, NUMBER_OF_PERSONS_INJURED=1, NUMBER_OF_PERSONS_KILLED=0, OFF_STREET_NAME=None, ON_STREET_NAME=u'EASTERN PARKWAY', UNIQUE_KEY=3494165, VEHICLE_TYPE_CODE_1=u'MOTORCYCLE', VEHICLE_TYPE_CODE_2=None, VEHICLE_TYPE_CODE_3=None, VEHICLE_TYPE_CODE_4=None, VEHICLE_TYPE_CODE_5=None, ZIP_CODE=11233, _c28=58975, Conditions=u'Light Rain', DateUTC=datetime.datetime(2016, 7, 1, 21, 34), DatetimeEDT=datetime.datetime(2016, 7, 1, 17, 34), Dew_PointF=66.9000015258789, Events=u'Rain', Foggy=1, Freezing=0, Gust_SpeedMPH=u'-', Humidity=u'84', PrecipitationIn=u'0.01', Rain=1, Sea_Level_PressureIn=29.9, Snow=0, TemperatureF=72.0, TimeEDT=u'5:34 PM', VisibilityMPH=1.8, WindDirDegrees=0, Wind_Direction=u'Variable', Wind_SpeedMPH=u'4.6', Windy=0),\n",
       " Row(BOROUGH=None, CONTRIBUTING_FACTOR_VEHICLE_1=u'Unspecified', CONTRIBUTING_FACTOR_VEHICLE_2=u'Unspecified', CONTRIBUTING_FACTOR_VEHICLE_3=None, CONTRIBUTING_FACTOR_VEHICLE_4=None, CONTRIBUTING_FACTOR_VEHICLE_5=None, CROSS_STREET_NAME=None, DATETIME=datetime.datetime(2016, 7, 4, 16, 7), LATITUDE=40.861425, LOCATION=u'(40.861425, -73.8280022)', LONGITUDE=-73.8280022, NUMBER_OF_CYCLIST_INJURED=0, NUMBER_OF_CYCLIST_KILLED=0, NUMBER_OF_MOTORIST_INJURED=0, NUMBER_OF_MOTORIST_KILLED=0, NUMBER_OF_PEDESTRIANS_INJURED=0, NUMBER_OF_PEDESTRIANS_KILLED=0, NUMBER_OF_PERSONS_INJURED=0, NUMBER_OF_PERSONS_KILLED=0, OFF_STREET_NAME=None, ON_STREET_NAME=None, UNIQUE_KEY=3479026, VEHICLE_TYPE_CODE_1=u'PASSENGER VEHICLE', VEHICLE_TYPE_CODE_2=u'PASSENGER VEHICLE', VEHICLE_TYPE_CODE_3=None, VEHICLE_TYPE_CODE_4=None, VEHICLE_TYPE_CODE_5=None, ZIP_CODE=None, _c28=59058, Conditions=u'Scattered Clouds', DateUTC=datetime.datetime(2016, 7, 4, 20, 51), DatetimeEDT=datetime.datetime(2016, 7, 4, 16, 51), Dew_PointF=0.0, Events=None, Foggy=1, Freezing=0, Gust_SpeedMPH=u'-', Humidity=u'56', PrecipitationIn=u'N/A', Rain=0, Sea_Level_PressureIn=30.0, Snow=0, TemperatureF=78.1, TimeEDT=u'4:51 PM', VisibilityMPH=9.0, WindDirDegrees=0, Wind_Direction=u'North', Wind_SpeedMPH=u'-9999.0', Windy=0),\n",
       " Row(BOROUGH=u'BROOKLYN', CONTRIBUTING_FACTOR_VEHICLE_1=u'Unspecified', CONTRIBUTING_FACTOR_VEHICLE_2=None, CONTRIBUTING_FACTOR_VEHICLE_3=None, CONTRIBUTING_FACTOR_VEHICLE_4=None, CONTRIBUTING_FACTOR_VEHICLE_5=None, CROSS_STREET_NAME=u'60 STREET', DATETIME=datetime.datetime(2016, 7, 4, 18, 7), LATITUDE=None, LOCATION=None, LONGITUDE=None, NUMBER_OF_CYCLIST_INJURED=0, NUMBER_OF_CYCLIST_KILLED=0, NUMBER_OF_MOTORIST_INJURED=0, NUMBER_OF_MOTORIST_KILLED=0, NUMBER_OF_PEDESTRIANS_INJURED=1, NUMBER_OF_PEDESTRIANS_KILLED=0, NUMBER_OF_PERSONS_INJURED=1, NUMBER_OF_PERSONS_KILLED=0, OFF_STREET_NAME=None, ON_STREET_NAME=u'8 AVENUE', UNIQUE_KEY=3475644, VEHICLE_TYPE_CODE_1=u'PASSENGER VEHICLE', VEHICLE_TYPE_CODE_2=None, VEHICLE_TYPE_CODE_3=None, VEHICLE_TYPE_CODE_4=None, VEHICLE_TYPE_CODE_5=None, ZIP_CODE=11220, _c28=59060, Conditions=u'Overcast', DateUTC=datetime.datetime(2016, 7, 4, 22, 51), DatetimeEDT=datetime.datetime(2016, 7, 4, 18, 51), Dew_PointF=66.0, Events=None, Foggy=1, Freezing=0, Gust_SpeedMPH=u'-', Humidity=u'71', PrecipitationIn=u'N/A', Rain=0, Sea_Level_PressureIn=29.96, Snow=0, TemperatureF=75.9, TimeEDT=u'6:51 PM', VisibilityMPH=8.0, WindDirDegrees=0, Wind_Direction=u'Variable', Wind_SpeedMPH=u'3.5', Windy=0),\n",
       " Row(BOROUGH=u'BROOKLYN', CONTRIBUTING_FACTOR_VEHICLE_1=u'Unspecified', CONTRIBUTING_FACTOR_VEHICLE_2=u'Unspecified', CONTRIBUTING_FACTOR_VEHICLE_3=None, CONTRIBUTING_FACTOR_VEHICLE_4=None, CONTRIBUTING_FACTOR_VEHICLE_5=None, CROSS_STREET_NAME=u'81 STREET', DATETIME=datetime.datetime(2016, 7, 13, 13, 7), LATITUDE=None, LOCATION=None, LONGITUDE=None, NUMBER_OF_CYCLIST_INJURED=0, NUMBER_OF_CYCLIST_KILLED=0, NUMBER_OF_MOTORIST_INJURED=0, NUMBER_OF_MOTORIST_KILLED=0, NUMBER_OF_PEDESTRIANS_INJURED=0, NUMBER_OF_PEDESTRIANS_KILLED=0, NUMBER_OF_PERSONS_INJURED=0, NUMBER_OF_PERSONS_KILLED=0, OFF_STREET_NAME=None, ON_STREET_NAME=u'5 AVENUE', UNIQUE_KEY=3480955, VEHICLE_TYPE_CODE_1=u'PASSENGER VEHICLE', VEHICLE_TYPE_CODE_2=u'OTHER', VEHICLE_TYPE_CODE_3=None, VEHICLE_TYPE_CODE_4=None, VEHICLE_TYPE_CODE_5=None, ZIP_CODE=11209, _c28=59334, Conditions=u'Overcast', DateUTC=datetime.datetime(2016, 7, 13, 17, 51), DatetimeEDT=datetime.datetime(2016, 7, 13, 13, 51), Dew_PointF=68.0, Events=None, Foggy=1, Freezing=0, Gust_SpeedMPH=u'-', Humidity=u'65', PrecipitationIn=u'N/A', Rain=0, Sea_Level_PressureIn=30.05, Snow=0, TemperatureF=81.0, TimeEDT=u'1:51 PM', VisibilityMPH=9.0, WindDirDegrees=0, Wind_Direction=u'Variable', Wind_SpeedMPH=u'5.8', Windy=0)]"
      ]
     },
     "execution_count": 21,
     "metadata": {},
     "output_type": "execute_result"
    }
   ],
   "source": [
    "from pyspark.sql.functions import udf\n",
    "from pyspark.sql.types import FloatType\n",
    "def filter_general(x):\n",
    "    if x > 65:\n",
    "        return float(x)\n",
    "    else:\n",
    "        return float(0)\n",
    "    \n",
    "sparkUDF = udf(filter_general, FloatType())\n",
    "newcol = df.withColumn(\"Dew_PointF\", sparkUDF(\"Dew_PointF\"))\n",
    "newcol.take(5)\n"
   ]
  },
  {
   "cell_type": "code",
   "execution_count": 33,
   "metadata": {
    "scrolled": true
   },
   "outputs": [],
   "source": [
    "a = sqlContext.sql('select * from df where Rain=1')\n",
    "a.coalesce(1).write.csv('rain', header=True)\n",
    "\n",
    "a = sqlContext.sql('select * from df where Snow=1')\n",
    "a.coalesce(1).write.csv('snow', header=True)\n",
    "\n",
    "a = sqlContext.sql('select * from df where Freezing=1')\n",
    "a.coalesce(1).write.csv('freezing', header=True)\n",
    "\n",
    "a = sqlContext.sql('select * from df where LowVisibility=1')\n",
    "a.coalesce(1).write.csv('foggy', header=True)\n",
    "\n",
    "a = sqlContext.sql('select * from df where Windy=1')\n",
    "a.coalesce(1).write.csv('windy', header=True)\n",
    "\n",
    "\n",
    "df = df.filter(df.LATITUDE != '0')\n",
    "\n",
    "from pyspark.sql.functions import col\n",
    "\n",
    "\n",
    "a = df.where(col(\"LOCATION\").isNotNull())\n",
    "a.coalesce(1).write.csv('geodata', header=True)"
   ]
  },
  {
   "cell_type": "code",
   "execution_count": 24,
   "metadata": {
    "collapsed": true
   },
   "outputs": [],
   "source": []
  },
  {
   "cell_type": "code",
   "execution_count": 25,
   "metadata": {},
   "outputs": [
    {
     "data": {
      "text/plain": [
       "104796"
      ]
     },
     "execution_count": 25,
     "metadata": {},
     "output_type": "execute_result"
    }
   ],
   "source": [
    "test.count()"
   ]
  },
  {
   "cell_type": "code",
   "execution_count": null,
   "metadata": {
    "collapsed": true
   },
   "outputs": [],
   "source": []
  }
 ],
 "metadata": {
  "kernelspec": {
   "display_name": "Python 2",
   "language": "python",
   "name": "python2"
  },
  "language_info": {
   "codemirror_mode": {
    "name": "ipython",
    "version": 2
   },
   "file_extension": ".py",
   "mimetype": "text/x-python",
   "name": "python",
   "nbconvert_exporter": "python",
   "pygments_lexer": "ipython2",
   "version": "2.7.11"
  }
 },
 "nbformat": 4,
 "nbformat_minor": 2
}
