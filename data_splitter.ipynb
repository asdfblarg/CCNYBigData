{
 "cells": [
  {
   "cell_type": "code",
   "execution_count": 36,
   "metadata": {},
   "outputs": [
    {
     "data": {
      "text/plain": [
       "<pyspark.context.SparkContext at 0x4656610>"
      ]
     },
     "execution_count": 36,
     "metadata": {},
     "output_type": "execute_result"
    }
   ],
   "source": [
    "sc"
   ]
  },
  {
   "cell_type": "code",
   "execution_count": 5,
   "metadata": {
    "collapsed": true
   },
   "outputs": [],
   "source": [
    "import csv"
   ]
  },
  {
   "cell_type": "code",
   "execution_count": 71,
   "metadata": {
    "collapsed": true
   },
   "outputs": [],
   "source": [
    "data =  sc.textFile('coalesce_joined_weather_collisions_sorted_fixed.csv')\n",
    "df = spark.read.load('coalesce_joined_weather_collisions_sorted_fixed.csv', format='csv', header=True, inferSchema=False)\n",
    "\n",
    "\n",
    "df.registerTempTable('df')"
   ]
  },
  {
   "cell_type": "code",
   "execution_count": 60,
   "metadata": {},
   "outputs": [
    {
     "data": {
      "text/plain": [
       "[Row(BOROUGH=u'QUEENS', CONTRIBUTING_FACTOR_VEHICLE_1=u'Unspecified', CONTRIBUTING_FACTOR_VEHICLE_2=u'Unspecified', CONTRIBUTING_FACTOR_VEHICLE_3=None, CONTRIBUTING_FACTOR_VEHICLE_4=None, CONTRIBUTING_FACTOR_VEHICLE_5=None, CROSS_STREET_NAME=u'70 DRIVE', DATETIME=u'2016-06-20 21:06:00', LATITUDE=None, LOCATION=None, LONGITUDE=None, NUMBER_OF_CYCLIST_INJURED=u'0', NUMBER_OF_CYCLIST_KILLED=u'0', NUMBER_OF_MOTORIST_INJURED=u'0', NUMBER_OF_MOTORIST_KILLED=u'0', NUMBER_OF_PEDESTRIANS_INJURED=u'0', NUMBER_OF_PEDESTRIANS_KILLED=u'0', NUMBER_OF_PERSONS_INJURED=u'0', NUMBER_OF_PERSONS_KILLED=u'0', OFF_STREET_NAME=None, ON_STREET_NAME=u'METROPOLITAN AVENUE', UNIQUE_KEY=u'3465402', VEHICLE_TYPE_CODE_1=u'PASSENGER VEHICLE', VEHICLE_TYPE_CODE_2=u'PASSENGER VEHICLE', VEHICLE_TYPE_CODE_3=None, VEHICLE_TYPE_CODE_4=None, VEHICLE_TYPE_CODE_5=None, ZIP_CODE=u'11375', _c28=u'58671', Conditions=u'Clear', DateUTC=u'2016-06-21 01:51:00', DatetimeEDT=u'2016-06-20 21:51:00', Dew_PointF=u'63.0', Events=None, Freezing=u'0', Gust_SpeedMPH=u'-', Humidity=u'60', LowVisibility=u'0', PrecipitationIn=u'N/A', Rain=u'0', Sea_Level_PressureIn=u'29.91', Snow=u'0', TemperatureF=u'78.1', TimeEDT=u'9:51 PM', VisibilityMPH=u'9.0', WindDirDegrees=u'0', Wind_Direction=u'Calm', Wind_SpeedMPH=u'Calm', Windy=u'0'),\n",
       " Row(BOROUGH=u'BROOKLYN', CONTRIBUTING_FACTOR_VEHICLE_1=u'Unspecified', CONTRIBUTING_FACTOR_VEHICLE_2=None, CONTRIBUTING_FACTOR_VEHICLE_3=None, CONTRIBUTING_FACTOR_VEHICLE_4=None, CONTRIBUTING_FACTOR_VEHICLE_5=None, CROSS_STREET_NAME=u'HERKIMER STREET', DATETIME=u'2016-07-01 17:07:00', LATITUDE=None, LOCATION=None, LONGITUDE=None, NUMBER_OF_CYCLIST_INJURED=u'0', NUMBER_OF_CYCLIST_KILLED=u'0', NUMBER_OF_MOTORIST_INJURED=u'0', NUMBER_OF_MOTORIST_KILLED=u'0', NUMBER_OF_PEDESTRIANS_INJURED=u'1', NUMBER_OF_PEDESTRIANS_KILLED=u'0', NUMBER_OF_PERSONS_INJURED=u'1', NUMBER_OF_PERSONS_KILLED=u'0', OFF_STREET_NAME=None, ON_STREET_NAME=u'EASTERN PARKWAY', UNIQUE_KEY=u'3494165', VEHICLE_TYPE_CODE_1=u'MOTORCYCLE', VEHICLE_TYPE_CODE_2=None, VEHICLE_TYPE_CODE_3=None, VEHICLE_TYPE_CODE_4=None, VEHICLE_TYPE_CODE_5=None, ZIP_CODE=u'11233', _c28=u'58975', Conditions=u'Light Rain', DateUTC=u'2016-07-01 21:34:00', DatetimeEDT=u'2016-07-01 17:34:00', Dew_PointF=u'66.9', Events=u'Rain', Freezing=u'0', Gust_SpeedMPH=u'-', Humidity=u'84', LowVisibility=u'1', PrecipitationIn=u'0.01', Rain=u'1', Sea_Level_PressureIn=u'29.90', Snow=u'0', TemperatureF=u'72.0', TimeEDT=u'5:34 PM', VisibilityMPH=u'1.8', WindDirDegrees=u'0', Wind_Direction=u'Variable', Wind_SpeedMPH=u'4.6', Windy=u'0')]"
      ]
     },
     "execution_count": 60,
     "metadata": {},
     "output_type": "execute_result"
    }
   ],
   "source": [
    "df.take(2)"
   ]
  },
  {
   "cell_type": "code",
   "execution_count": 61,
   "metadata": {},
   "outputs": [
    {
     "data": {
      "text/plain": [
       "[('BOROUGH', 'string'),\n",
       " ('CONTRIBUTING_FACTOR_VEHICLE_1', 'string'),\n",
       " ('CONTRIBUTING_FACTOR_VEHICLE_2', 'string'),\n",
       " ('CONTRIBUTING_FACTOR_VEHICLE_3', 'string'),\n",
       " ('CONTRIBUTING_FACTOR_VEHICLE_4', 'string'),\n",
       " ('CONTRIBUTING_FACTOR_VEHICLE_5', 'string'),\n",
       " ('CROSS_STREET_NAME', 'string'),\n",
       " ('DATETIME', 'string'),\n",
       " ('LATITUDE', 'string'),\n",
       " ('LOCATION', 'string'),\n",
       " ('LONGITUDE', 'string'),\n",
       " ('NUMBER_OF_CYCLIST_INJURED', 'string'),\n",
       " ('NUMBER_OF_CYCLIST_KILLED', 'string'),\n",
       " ('NUMBER_OF_MOTORIST_INJURED', 'string'),\n",
       " ('NUMBER_OF_MOTORIST_KILLED', 'string'),\n",
       " ('NUMBER_OF_PEDESTRIANS_INJURED', 'string'),\n",
       " ('NUMBER_OF_PEDESTRIANS_KILLED', 'string'),\n",
       " ('NUMBER_OF_PERSONS_INJURED', 'string'),\n",
       " ('NUMBER_OF_PERSONS_KILLED', 'string'),\n",
       " ('OFF_STREET_NAME', 'string'),\n",
       " ('ON_STREET_NAME', 'string'),\n",
       " ('UNIQUE_KEY', 'string'),\n",
       " ('VEHICLE_TYPE_CODE_1', 'string'),\n",
       " ('VEHICLE_TYPE_CODE_2', 'string'),\n",
       " ('VEHICLE_TYPE_CODE_3', 'string'),\n",
       " ('VEHICLE_TYPE_CODE_4', 'string'),\n",
       " ('VEHICLE_TYPE_CODE_5', 'string'),\n",
       " ('ZIP_CODE', 'string'),\n",
       " ('_c28', 'string'),\n",
       " ('Conditions', 'string'),\n",
       " ('DateUTC', 'string'),\n",
       " ('DatetimeEDT', 'string'),\n",
       " ('Dew_PointF', 'string'),\n",
       " ('Events', 'string'),\n",
       " ('Freezing', 'string'),\n",
       " ('Gust_SpeedMPH', 'string'),\n",
       " ('Humidity', 'string'),\n",
       " ('LowVisibility', 'string'),\n",
       " ('PrecipitationIn', 'string'),\n",
       " ('Rain', 'string'),\n",
       " ('Sea_Level_PressureIn', 'string'),\n",
       " ('Snow', 'string'),\n",
       " ('TemperatureF', 'string'),\n",
       " ('TimeEDT', 'string'),\n",
       " ('VisibilityMPH', 'string'),\n",
       " ('WindDirDegrees', 'string'),\n",
       " ('Wind_Direction', 'string'),\n",
       " ('Wind_SpeedMPH', 'string'),\n",
       " ('Windy', 'string')]"
      ]
     },
     "execution_count": 61,
     "metadata": {},
     "output_type": "execute_result"
    }
   ],
   "source": [
    "df.dtypes"
   ]
  },
  {
   "cell_type": "code",
   "execution_count": 41,
   "metadata": {},
   "outputs": [
    {
     "data": {
      "text/plain": [
       "[Row(BOROUGH=u'QUEENS', CONTRIBUTING_FACTOR_VEHICLE_1=u'Unspecified', CONTRIBUTING_FACTOR_VEHICLE_2=u'Unspecified', CONTRIBUTING_FACTOR_VEHICLE_3=None, CONTRIBUTING_FACTOR_VEHICLE_4=None, CONTRIBUTING_FACTOR_VEHICLE_5=None, CROSS_STREET_NAME=u'70 DRIVE', DATETIME=u'2016-06-20 21:06:00', LATITUDE=None, LOCATION=None, LONGITUDE=None, NUMBER_OF_CYCLIST_INJURED=u'0', NUMBER_OF_CYCLIST_KILLED=u'0', NUMBER_OF_MOTORIST_INJURED=u'0', NUMBER_OF_MOTORIST_KILLED=u'0', NUMBER_OF_PEDESTRIANS_INJURED=u'0', NUMBER_OF_PEDESTRIANS_KILLED=u'0', NUMBER_OF_PERSONS_INJURED=u'0', NUMBER_OF_PERSONS_KILLED=u'0', OFF_STREET_NAME=None, ON_STREET_NAME=u'METROPOLITAN AVENUE', UNIQUE_KEY=u'3465402', VEHICLE_TYPE_CODE_1=u'PASSENGER VEHICLE', VEHICLE_TYPE_CODE_2=u'PASSENGER VEHICLE', VEHICLE_TYPE_CODE_3=None, VEHICLE_TYPE_CODE_4=None, VEHICLE_TYPE_CODE_5=None, ZIP_CODE=u'11375', _c28=u'58671', Conditions=u'Clear', DateUTC=u'2016-06-21 01:51:00', DatetimeEDT=u'2016-06-20 21:51:00', Dew_PointF=63.0, Events=None, Freezing=u'0', Gust_SpeedMPH=u'-', Humidity=u'60', LowVisibility=u'0', PrecipitationIn=u'N/A', Rain=u'0', Sea_Level_PressureIn=u'29.91', Snow=u'0', TemperatureF=u'78.1', TimeEDT=u'9:51 PM', VisibilityMPH=u'9.0', WindDirDegrees=u'0', Wind_Direction=u'Calm', Wind_SpeedMPH=u'Calm', Windy=u'0'),\n",
       " Row(BOROUGH=u'BROOKLYN', CONTRIBUTING_FACTOR_VEHICLE_1=u'Unspecified', CONTRIBUTING_FACTOR_VEHICLE_2=None, CONTRIBUTING_FACTOR_VEHICLE_3=None, CONTRIBUTING_FACTOR_VEHICLE_4=None, CONTRIBUTING_FACTOR_VEHICLE_5=None, CROSS_STREET_NAME=u'HERKIMER STREET', DATETIME=u'2016-07-01 17:07:00', LATITUDE=None, LOCATION=None, LONGITUDE=None, NUMBER_OF_CYCLIST_INJURED=u'0', NUMBER_OF_CYCLIST_KILLED=u'0', NUMBER_OF_MOTORIST_INJURED=u'0', NUMBER_OF_MOTORIST_KILLED=u'0', NUMBER_OF_PEDESTRIANS_INJURED=u'1', NUMBER_OF_PEDESTRIANS_KILLED=u'0', NUMBER_OF_PERSONS_INJURED=u'1', NUMBER_OF_PERSONS_KILLED=u'0', OFF_STREET_NAME=None, ON_STREET_NAME=u'EASTERN PARKWAY', UNIQUE_KEY=u'3494165', VEHICLE_TYPE_CODE_1=u'MOTORCYCLE', VEHICLE_TYPE_CODE_2=None, VEHICLE_TYPE_CODE_3=None, VEHICLE_TYPE_CODE_4=None, VEHICLE_TYPE_CODE_5=None, ZIP_CODE=u'11233', _c28=u'58975', Conditions=u'Light Rain', DateUTC=u'2016-07-01 21:34:00', DatetimeEDT=u'2016-07-01 17:34:00', Dew_PointF=66.9000015258789, Events=u'Rain', Freezing=u'0', Gust_SpeedMPH=u'-', Humidity=u'84', LowVisibility=u'1', PrecipitationIn=u'0.01', Rain=u'1', Sea_Level_PressureIn=u'29.90', Snow=u'0', TemperatureF=u'72.0', TimeEDT=u'5:34 PM', VisibilityMPH=u'1.8', WindDirDegrees=u'0', Wind_Direction=u'Variable', Wind_SpeedMPH=u'4.6', Windy=u'0'),\n",
       " Row(BOROUGH=None, CONTRIBUTING_FACTOR_VEHICLE_1=u'Unspecified', CONTRIBUTING_FACTOR_VEHICLE_2=u'Unspecified', CONTRIBUTING_FACTOR_VEHICLE_3=None, CONTRIBUTING_FACTOR_VEHICLE_4=None, CONTRIBUTING_FACTOR_VEHICLE_5=None, CROSS_STREET_NAME=None, DATETIME=u'2016-07-04 16:07:00', LATITUDE=u'40.861425', LOCATION=u'(40.861425, -73.8280022)', LONGITUDE=u'-73.8280022', NUMBER_OF_CYCLIST_INJURED=u'0', NUMBER_OF_CYCLIST_KILLED=u'0', NUMBER_OF_MOTORIST_INJURED=u'0', NUMBER_OF_MOTORIST_KILLED=u'0', NUMBER_OF_PEDESTRIANS_INJURED=u'0', NUMBER_OF_PEDESTRIANS_KILLED=u'0', NUMBER_OF_PERSONS_INJURED=u'0', NUMBER_OF_PERSONS_KILLED=u'0', OFF_STREET_NAME=None, ON_STREET_NAME=None, UNIQUE_KEY=u'3479026', VEHICLE_TYPE_CODE_1=u'PASSENGER VEHICLE', VEHICLE_TYPE_CODE_2=u'PASSENGER VEHICLE', VEHICLE_TYPE_CODE_3=None, VEHICLE_TYPE_CODE_4=None, VEHICLE_TYPE_CODE_5=None, ZIP_CODE=None, _c28=u'59058', Conditions=u'Scattered Clouds', DateUTC=u'2016-07-04 20:51:00', DatetimeEDT=u'2016-07-04 16:51:00', Dew_PointF=61.0, Events=None, Freezing=u'0', Gust_SpeedMPH=u'-', Humidity=u'56', LowVisibility=u'0', PrecipitationIn=u'N/A', Rain=u'0', Sea_Level_PressureIn=u'30.00', Snow=u'0', TemperatureF=u'78.1', TimeEDT=u'4:51 PM', VisibilityMPH=u'9.0', WindDirDegrees=u'0', Wind_Direction=u'North', Wind_SpeedMPH=u'-9999.0', Windy=u'0'),\n",
       " Row(BOROUGH=u'BROOKLYN', CONTRIBUTING_FACTOR_VEHICLE_1=u'Unspecified', CONTRIBUTING_FACTOR_VEHICLE_2=None, CONTRIBUTING_FACTOR_VEHICLE_3=None, CONTRIBUTING_FACTOR_VEHICLE_4=None, CONTRIBUTING_FACTOR_VEHICLE_5=None, CROSS_STREET_NAME=u'60 STREET', DATETIME=u'2016-07-04 18:07:00', LATITUDE=None, LOCATION=None, LONGITUDE=None, NUMBER_OF_CYCLIST_INJURED=u'0', NUMBER_OF_CYCLIST_KILLED=u'0', NUMBER_OF_MOTORIST_INJURED=u'0', NUMBER_OF_MOTORIST_KILLED=u'0', NUMBER_OF_PEDESTRIANS_INJURED=u'1', NUMBER_OF_PEDESTRIANS_KILLED=u'0', NUMBER_OF_PERSONS_INJURED=u'1', NUMBER_OF_PERSONS_KILLED=u'0', OFF_STREET_NAME=None, ON_STREET_NAME=u'8 AVENUE', UNIQUE_KEY=u'3475644', VEHICLE_TYPE_CODE_1=u'PASSENGER VEHICLE', VEHICLE_TYPE_CODE_2=None, VEHICLE_TYPE_CODE_3=None, VEHICLE_TYPE_CODE_4=None, VEHICLE_TYPE_CODE_5=None, ZIP_CODE=u'11220', _c28=u'59060', Conditions=u'Overcast', DateUTC=u'2016-07-04 22:51:00', DatetimeEDT=u'2016-07-04 18:51:00', Dew_PointF=66.0, Events=None, Freezing=u'0', Gust_SpeedMPH=u'-', Humidity=u'71', LowVisibility=u'0', PrecipitationIn=u'N/A', Rain=u'0', Sea_Level_PressureIn=u'29.96', Snow=u'0', TemperatureF=u'75.9', TimeEDT=u'6:51 PM', VisibilityMPH=u'8.0', WindDirDegrees=u'0', Wind_Direction=u'Variable', Wind_SpeedMPH=u'3.5', Windy=u'0'),\n",
       " Row(BOROUGH=u'BROOKLYN', CONTRIBUTING_FACTOR_VEHICLE_1=u'Unspecified', CONTRIBUTING_FACTOR_VEHICLE_2=u'Unspecified', CONTRIBUTING_FACTOR_VEHICLE_3=None, CONTRIBUTING_FACTOR_VEHICLE_4=None, CONTRIBUTING_FACTOR_VEHICLE_5=None, CROSS_STREET_NAME=u'81 STREET', DATETIME=u'2016-07-13 13:07:00', LATITUDE=None, LOCATION=None, LONGITUDE=None, NUMBER_OF_CYCLIST_INJURED=u'0', NUMBER_OF_CYCLIST_KILLED=u'0', NUMBER_OF_MOTORIST_INJURED=u'0', NUMBER_OF_MOTORIST_KILLED=u'0', NUMBER_OF_PEDESTRIANS_INJURED=u'0', NUMBER_OF_PEDESTRIANS_KILLED=u'0', NUMBER_OF_PERSONS_INJURED=u'0', NUMBER_OF_PERSONS_KILLED=u'0', OFF_STREET_NAME=None, ON_STREET_NAME=u'5 AVENUE', UNIQUE_KEY=u'3480955', VEHICLE_TYPE_CODE_1=u'PASSENGER VEHICLE', VEHICLE_TYPE_CODE_2=u'OTHER', VEHICLE_TYPE_CODE_3=None, VEHICLE_TYPE_CODE_4=None, VEHICLE_TYPE_CODE_5=None, ZIP_CODE=u'11209', _c28=u'59334', Conditions=u'Overcast', DateUTC=u'2016-07-13 17:51:00', DatetimeEDT=u'2016-07-13 13:51:00', Dew_PointF=68.0, Events=None, Freezing=u'0', Gust_SpeedMPH=u'-', Humidity=u'65', LowVisibility=u'0', PrecipitationIn=u'N/A', Rain=u'0', Sea_Level_PressureIn=u'30.05', Snow=u'0', TemperatureF=u'81.0', TimeEDT=u'1:51 PM', VisibilityMPH=u'9.0', WindDirDegrees=u'0', Wind_Direction=u'Variable', Wind_SpeedMPH=u'5.8', Windy=u'0')]"
      ]
     },
     "execution_count": 41,
     "metadata": {},
     "output_type": "execute_result"
    }
   ],
   "source": [
    "from pyspark.sql.functions import udf\n",
    "from pyspark.sql.types import FloatType\n",
    "def filter_general(x):\n",
    "    if x > 65:\n",
    "        return float(x)\n",
    "    else:\n",
    "        return float(0)\n",
    "    \n",
    "gfg = udf(filter_general, FloatType())\n",
    "newcol = df.withColumn(\"Dew_PointF\", gfg(\"Dew_PointF\"))\n",
    "newcol.take(5)\n"
   ]
  },
  {
   "cell_type": "code",
   "execution_count": 68,
   "metadata": {},
   "outputs": [
    {
     "data": {
      "text/plain": [
       "DataFrame[BOROUGH: string, CONTRIBUTING_FACTOR_VEHICLE_1: string, CONTRIBUTING_FACTOR_VEHICLE_2: string, CONTRIBUTING_FACTOR_VEHICLE_3: string, CONTRIBUTING_FACTOR_VEHICLE_4: string, CONTRIBUTING_FACTOR_VEHICLE_5: string, CROSS_STREET_NAME: string, DATETIME: string, LATITUDE: string, LOCATION: string, LONGITUDE: string, NUMBER_OF_CYCLIST_INJURED: string, NUMBER_OF_CYCLIST_KILLED: string, NUMBER_OF_MOTORIST_INJURED: string, NUMBER_OF_MOTORIST_KILLED: string, NUMBER_OF_PEDESTRIANS_INJURED: string, NUMBER_OF_PEDESTRIANS_KILLED: string, NUMBER_OF_PERSONS_INJURED: string, NUMBER_OF_PERSONS_KILLED: string, OFF_STREET_NAME: string, ON_STREET_NAME: string, UNIQUE_KEY: string, VEHICLE_TYPE_CODE_1: string, VEHICLE_TYPE_CODE_2: string, VEHICLE_TYPE_CODE_3: string, VEHICLE_TYPE_CODE_4: string, VEHICLE_TYPE_CODE_5: string, ZIP_CODE: string, _c28: string, Conditions: string, DateUTC: string, DatetimeEDT: string, Dew_PointF: string, Events: string, Freezing: string, Gust_SpeedMPH: string, Humidity: string, LowVisibility: string, PrecipitationIn: string, Rain: string, Sea_Level_PressureIn: string, Snow: string, TemperatureF: string, TimeEDT: string, VisibilityMPH: string, WindDirDegrees: string, Wind_Direction: string, Wind_SpeedMPH: string, Windy: string]"
      ]
     },
     "execution_count": 68,
     "metadata": {},
     "output_type": "execute_result"
    }
   ],
   "source": []
  },
  {
   "cell_type": "code",
   "execution_count": 96,
   "metadata": {
    "scrolled": true
   },
   "outputs": [
    {
     "name": "stdout",
     "output_type": "stream",
     "text": [
      "[(1, 0), (2, 0), (3, 0), (4, 0), (5, 0), (6, 1), (7, 10516), (8, 19672), (9, 19491), (10, 19659), (11, 19235), (12, 19118)]\n",
      "{'Collisions in Rain': 1.20176057645879, 'Monthly Adjusted Average Weight': [0.0, 0.0, 0.0, 0.0, 0.0, 0.0009285740816402332, 9.764885042528693, 18.266909334026668, 18.098837425249787, 18.254837870965346, 17.861122460349886, 17.75247929279798], 'Average Collisions Per Month': 8974}\n",
      "[(1, 17247), (2, 15467), (3, 19109), (4, 8825), (5, 0), (6, 0), (7, 0), (8, 0), (9, 0), (10, 0), (11, 0), (12, 0)]\n",
      "{'Collisions in Rain': 2.133953304313415, 'Monthly Adjusted Average Weight': [28.437870993272657, 25.50290199182166, 31.508046431869147, 14.551180583036539, 0.0, 0.0, 0.0, 0.0, 0.0, 0.0, 0.0, 0.0], 'Average Collisions Per Month': 5054}\n"
     ]
    }
   ],
   "source": [
    "# sqlContext.sql('select * from df where Rain=1')\n",
    "\n",
    "\n",
    "#date = \"\"\n",
    "\n",
    "# Yearly statistics\n",
    "\n",
    "for yr in range(16,18):\n",
    "\n",
    "    ## Avg monthly counts compare to yearly mean\n",
    "    stats = {}\n",
    "    arr = []\n",
    "\n",
    "    for x in range(1,10):\n",
    "        date = \"20{1}-0{0}%\".format(x, yr)\n",
    "        query = 'select * from df where DATETIME like \"{0}\"'.format(date)\n",
    "        arr.append((x, sqlContext.sql(query).count()))\n",
    "        sqlContext.sql('select * from df where Rain=1')\n",
    "\n",
    "    for x in range(10,13):\n",
    "        date = \"20{1}-{0}%\".format(x, yr)\n",
    "        query = 'select * from df where DATETIME like \"{0}\"'.format(date)\n",
    "        arr.append((x, sqlContext.sql(query).count()))\n",
    "\n",
    "    print arr\n",
    "    total = sum([x[1] for x in arr])\n",
    "    stats['Average Collisions Per Month'] = total // 12\n",
    "    stats['Monthly Adjusted Average Weight'] = [float(x[1])/float(total)*100.0 for x in arr]\n",
    "    \n",
    "    \n",
    "    ## Percent of collisions in Rain\n",
    "    arr = []\n",
    "    for x in range(1,10):\n",
    "        date = \"20{1}-0{0}%\".format(x, yr)\n",
    "        query = 'select * from df where Rain=\"1\"'.format(date)\n",
    "        arr.append((x, sqlContext.sql(query).count()))\n",
    "        sqlContext.sql('select * from df where Rain=1')\n",
    "\n",
    "    for x in range(10,13):\n",
    "        date = \"20{1}-{0}%\".format(x, yr)\n",
    "        query = 'select * from df where Rain=\"1\"'.format(date)\n",
    "        arr.append((x, sqlContext.sql(query).count()))\n",
    "    rain_total = sum([x[1] for x in arr])\n",
    "    stats['Collisions in Rain'] = float(rain_total) / float(total)\n",
    "    #stats['Average Rain Per Month'] = total // 12\n",
    "\n",
    "\n",
    "\n",
    "    print stats\n",
    "\n",
    "\n",
    "# print arr\n",
    "\n",
    "# Monthly Statistics\n",
    "\n",
    "# for x in [date]:\n",
    "    \n",
    "#     a = sqlContext.sql('select * from df where Rain=1')\n",
    "#     a.coalesce(1).write.csv('rain', header=True)\n",
    "\n",
    "#     a = sqlContext.sql('select * from df where Snow=1')\n",
    "#     a.coalesce(1).write.csv('snow', header=True)\n",
    "\n",
    "#     a = sqlContext.sql('select * from df where Freezing=1')\n",
    "#     a.coalesce(1).write.csv('freezing', header=True)\n",
    "\n",
    "#     a = sqlContext.sql('select * from df where LowVisibility=1')\n",
    "#     a.coalesce(1).write.csv('foggy', header=True)\n",
    "\n",
    "#     a = sqlContext.sql('select * from df where Windy=1')\n",
    "#     a.coalesce(1).write.csv('windy', header=True)\n",
    "\n",
    "\n",
    "# df = df.filter(df.LATITUDE != '0')\n",
    "\n",
    "# from pyspark.sql.functions import col\n",
    "\n",
    "\n",
    "# a = df.where(col(\"LOCATION\").isNotNull())\n",
    "# a.coalesce(1).write.csv('geodata', header=True)"
   ]
  },
  {
   "cell_type": "code",
   "execution_count": 24,
   "metadata": {
    "collapsed": true
   },
   "outputs": [],
   "source": []
  },
  {
   "cell_type": "code",
   "execution_count": 25,
   "metadata": {},
   "outputs": [
    {
     "data": {
      "text/plain": [
       "104796"
      ]
     },
     "execution_count": 25,
     "metadata": {},
     "output_type": "execute_result"
    }
   ],
   "source": [
    "test.count()"
   ]
  },
  {
   "cell_type": "code",
   "execution_count": null,
   "metadata": {
    "collapsed": true
   },
   "outputs": [],
   "source": []
  }
 ],
 "metadata": {
  "kernelspec": {
   "display_name": "Python 2",
   "language": "python",
   "name": "python2"
  },
  "language_info": {
   "codemirror_mode": {
    "name": "ipython",
    "version": 2
   },
   "file_extension": ".py",
   "mimetype": "text/x-python",
   "name": "python",
   "nbconvert_exporter": "python",
   "pygments_lexer": "ipython2",
   "version": "2.7.11"
  }
 },
 "nbformat": 4,
 "nbformat_minor": 2
}
