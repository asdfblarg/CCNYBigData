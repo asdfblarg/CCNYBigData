{
 "cells": [
  {
   "cell_type": "code",
   "execution_count": 1,
   "metadata": {
    "collapsed": false,
    "deletable": true,
    "editable": true
   },
   "outputs": [
    {
     "data": {
      "text/plain": [
       "<pyspark.context.SparkContext at 0x7f4bc41df450>"
      ]
     },
     "execution_count": 1,
     "metadata": {},
     "output_type": "execute_result"
    }
   ],
   "source": [
    "sc"
   ]
  },
  {
   "cell_type": "code",
   "execution_count": 17,
   "metadata": {
    "collapsed": true,
    "deletable": true,
    "editable": true
   },
   "outputs": [],
   "source": [
    "data =  sc.textFile('coalesce_joined_weather_collisions_sorted_fixed.csv')\n",
    "df = spark.read.load('coalesce_joined_weather_collisions_sorted_fixed.csv', format='csv', header=True, inferSchema=False)\n",
    "\n",
    "\n",
    "df.registerTempTable('temp')"
   ]
  },
  {
   "cell_type": "code",
   "execution_count": 45,
   "metadata": {
    "collapsed": false,
    "deletable": true,
    "editable": true
   },
   "outputs": [
    {
     "data": {
      "text/plain": [
       "Row(BOROUGH=u'QUEENS', CONTRIBUTING_FACTOR_VEHICLE_1=u'Unspecified', CONTRIBUTING_FACTOR_VEHICLE_2=u'Unspecified', CONTRIBUTING_FACTOR_VEHICLE_3=None, CONTRIBUTING_FACTOR_VEHICLE_4=None, CONTRIBUTING_FACTOR_VEHICLE_5=None, CROSS_STREET_NAME=u'70 DRIVE', DATETIME=u'2016-06-20 21:06:00', LATITUDE=None, LOCATION=None, LONGITUDE=None, NUMBER_OF_CYCLIST_INJURED=u'0', NUMBER_OF_CYCLIST_KILLED=u'0', NUMBER_OF_MOTORIST_INJURED=u'0', NUMBER_OF_MOTORIST_KILLED=u'0', NUMBER_OF_PEDESTRIANS_INJURED=u'0', NUMBER_OF_PEDESTRIANS_KILLED=u'0', NUMBER_OF_PERSONS_INJURED=u'0', NUMBER_OF_PERSONS_KILLED=u'0', OFF_STREET_NAME=None, ON_STREET_NAME=u'METROPOLITAN AVENUE', UNIQUE_KEY=u'3465402', VEHICLE_TYPE_CODE_1=u'PASSENGER VEHICLE', VEHICLE_TYPE_CODE_2=u'PASSENGER VEHICLE', VEHICLE_TYPE_CODE_3=None, VEHICLE_TYPE_CODE_4=None, VEHICLE_TYPE_CODE_5=None, ZIP_CODE=u'11375', _c28=u'58671', Conditions=u'Clear', DateUTC=u'2016-06-21 01:51:00', DatetimeEDT=u'2016-06-20 21:51:00', Dew_PointF=u'63.0', Events=None, Freezing=u'0', Gust_SpeedMPH=u'-', Humidity=u'60', LowVisibility=u'0', PrecipitationIn=u'N/A', Rain=u'0', Sea_Level_PressureIn=u'29.91', Snow=u'0', TemperatureF=u'78.1', TimeEDT=u'9:51 PM', VisibilityMPH=u'9.0', WindDirDegrees=u'0', Wind_Direction=u'Calm', Wind_SpeedMPH=u'Calm', Windy=u'0')"
      ]
     },
     "execution_count": 45,
     "metadata": {},
     "output_type": "execute_result"
    }
   ],
   "source": [
    "# df = df.filter(df.LATITUDE != '0')\n",
    "\n",
    "# test = df.filter(df.DATETIME == '2016-06-20 21:06:00')\n",
    "# test = df.filter(if '2016-06-20 21' in df.DATETIME)\n",
    "\n",
    "# test.count()\n",
    "df.first()\n",
    "\n",
    "# a.coalesce(1).write.csv('geodata', header=True)"
   ]
  },
  {
   "cell_type": "code",
   "execution_count": 51,
   "metadata": {
    "collapsed": false,
    "deletable": true,
    "editable": true
   },
   "outputs": [
    {
     "data": {
      "text/plain": [
       "107692"
      ]
     },
     "execution_count": 51,
     "metadata": {},
     "output_type": "execute_result"
    }
   ],
   "source": [
    "year = \"2016%\"\n",
    "query = 'select * from temp where DATETIME LIKE \"{0}\"'.format(year)\n",
    "temp = sqlContext.sql(query)\n",
    "temp.count()"
   ]
  },
  {
   "cell_type": "code",
   "execution_count": 37,
   "metadata": {
    "collapsed": false,
    "deletable": true,
    "editable": true
   },
   "outputs": [],
   "source": [
    "from pyspark.sql.functions import udf\n",
    "from pyspark.sql.types import StringType\n",
    "\n",
    "def filter_year(x):\n",
    "    return x.split(\"-\")[0]\n",
    "    \n",
    "year_filter = udf(filter_year, StringType())\n",
    "newcol_df = df.withColumn(\"YEAR\", year_filter(\"DATETIME\"))\n",
    "unique_years = newcol_df.select(\"YEAR\").distinct()\n",
    "unique_years_list = unique_years.rdd.flatMap(lambda x: x).collect()\n",
    "\n",
    "# unique_years = df.select()"
   ]
  },
  {
   "cell_type": "code",
   "execution_count": 38,
   "metadata": {
    "collapsed": false,
    "deletable": true,
    "editable": true
   },
   "outputs": [
    {
     "data": {
      "text/plain": [
       "[u'2016', u'2017']"
      ]
     },
     "execution_count": 38,
     "metadata": {},
     "output_type": "execute_result"
    }
   ],
   "source": [
    "unique_years_list"
   ]
  },
  {
   "cell_type": "code",
   "execution_count": 43,
   "metadata": {
    "collapsed": false,
    "deletable": true,
    "editable": true
   },
   "outputs": [],
   "source": [
    "for year in unique_years_list:\n",
    "    year_wildcard = year+\"%\"\n",
    "    query = 'select * from temp where DATETIME LIKE \"{0}\"'.format(year_wildcard)\n",
    "    temp = sqlContext.sql(query)\n",
    "#     print(temp.take(1))\n",
    "    temp.coalesce(1).write.csv('partitioned_years/joins_in_'+year, header=True)"
   ]
  },
  {
   "cell_type": "code",
   "execution_count": 68,
   "metadata": {
    "collapsed": false,
    "deletable": true,
    "editable": true
   },
   "outputs": [
    {
     "data": {
      "text/plain": [
       "[None,\n",
       " u'Accelerator Defective',\n",
       " u'Aggressive Driving/Road Rage',\n",
       " u'Alcohol Involvement',\n",
       " u'Animals Action',\n",
       " u'Backing Unsafely',\n",
       " u'Brakes Defective',\n",
       " u'Cell Phone (hand-held)',\n",
       " u'Cell Phone (hands-free)',\n",
       " u'Driver Inattention/Distraction',\n",
       " u'Driver Inexperience',\n",
       " u'Driverless/Runaway Vehicle',\n",
       " u'Drugs (Illegal)',\n",
       " u'Failure to Keep Right',\n",
       " u'Failure to Yield Right-of-Way',\n",
       " u'Fatigued/Drowsy',\n",
       " u'Fell Asleep',\n",
       " u'Following Too Closely',\n",
       " u'Glare',\n",
       " u'Headlights Defective',\n",
       " u'Illness',\n",
       " u'Lane Marking Improper/Inadequate',\n",
       " u'Lost Consciousness',\n",
       " u'Obstruction/Debris',\n",
       " u'Other Electronic Device',\n",
       " u'Other Lighting Defects',\n",
       " u'Other Vehicular',\n",
       " u'Outside Car Distraction',\n",
       " u'Oversized Vehicle',\n",
       " u'Passenger Distraction',\n",
       " u'Passing or Lane Usage Improper',\n",
       " u'Pavement Defective',\n",
       " u'Pavement Slippery',\n",
       " u'Pedestrian/Bicyclist/Other Pedestrian Error/Confusion',\n",
       " u'Physical Disability',\n",
       " u'Prescription Medication',\n",
       " u'Reaction to Other Uninvolved Vehicle',\n",
       " u'Shoulders Defective/Improper',\n",
       " u'Steering Failure',\n",
       " u'Tire Failure/Inadequate',\n",
       " u'Tow Hitch Defective',\n",
       " u'Traffic Control Device Improper/Non-Working',\n",
       " u'Traffic Control Disregarded',\n",
       " u'Turning Improperly',\n",
       " u'Unsafe Lane Changing',\n",
       " u'Unsafe Speed',\n",
       " u'Unspecified',\n",
       " u'View Obstructed/Limited',\n",
       " u'Windshield Inadequate']"
      ]
     },
     "execution_count": 68,
     "metadata": {},
     "output_type": "execute_result"
    }
   ],
   "source": [
    "unique_CONTRIBUTING_FACTOR_1 = newcol_df.select(\"CONTRIBUTING_FACTOR_VEHICLE_1\").distinct()\n",
    "sorted(unique_CONTRIBUTING_FACTOR_1.rdd.flatMap(lambda x: x).collect())"
   ]
  },
  {
   "cell_type": "code",
   "execution_count": 66,
   "metadata": {
    "collapsed": false,
    "deletable": true,
    "editable": true
   },
   "outputs": [
    {
     "data": {
      "text/plain": [
       "[None,\n",
       " u'Aggressive Driving/Road Rage',\n",
       " u'Alcohol Involvement',\n",
       " u'Driver Inattention/Distraction',\n",
       " u'Following Too Closely',\n",
       " u'Lane Marking Improper/Inadequate',\n",
       " u'Other Vehicular',\n",
       " u'Oversized Vehicle',\n",
       " u'Pavement Slippery',\n",
       " u'Reaction to Other Uninvolved Vehicle',\n",
       " u'Traffic Control Disregarded',\n",
       " u'Unsafe Speed',\n",
       " u'Unspecified',\n",
       " u'View Obstructed/Limited']"
      ]
     },
     "execution_count": 66,
     "metadata": {},
     "output_type": "execute_result"
    }
   ],
   "source": [
    "unique_CONTRIBUTING_FACTOR_5 = newcol_df.select(\"CONTRIBUTING_FACTOR_VEHICLE_5\").distinct()\n",
    "sorted(unique_CONTRIBUTING_FACTOR_5.rdd.flatMap(lambda x: x).collect())"
   ]
  },
  {
   "cell_type": "code",
   "execution_count": 69,
   "metadata": {
    "collapsed": false,
    "deletable": true,
    "editable": true
   },
   "outputs": [
    {
     "data": {
      "text/plain": [
       "[None,\n",
       " u'Accelerator Defective',\n",
       " u'Aggressive Driving/Road Rage',\n",
       " u'Alcohol Involvement',\n",
       " u'Animals Action',\n",
       " u'Backing Unsafely',\n",
       " u'Brakes Defective',\n",
       " u'Cell Phone (hand-held)',\n",
       " u'Driver Inattention/Distraction',\n",
       " u'Driver Inexperience',\n",
       " u'Driverless/Runaway Vehicle',\n",
       " u'Drugs (Illegal)',\n",
       " u'Failure to Keep Right',\n",
       " u'Failure to Yield Right-of-Way',\n",
       " u'Fatigued/Drowsy',\n",
       " u'Fell Asleep',\n",
       " u'Following Too Closely',\n",
       " u'Glare',\n",
       " u'Illness',\n",
       " u'Lane Marking Improper/Inadequate',\n",
       " u'Lost Consciousness',\n",
       " u'Obstruction/Debris',\n",
       " u'Other Electronic Device',\n",
       " u'Other Lighting Defects',\n",
       " u'Other Vehicular',\n",
       " u'Outside Car Distraction',\n",
       " u'Oversized Vehicle',\n",
       " u'Passenger Distraction',\n",
       " u'Passing or Lane Usage Improper',\n",
       " u'Pavement Defective',\n",
       " u'Pavement Slippery',\n",
       " u'Pedestrian/Bicyclist/Other Pedestrian Error/Confusion',\n",
       " u'Physical Disability',\n",
       " u'Prescription Medication',\n",
       " u'Reaction to Other Uninvolved Vehicle',\n",
       " u'Steering Failure',\n",
       " u'Tire Failure/Inadequate',\n",
       " u'Tow Hitch Defective',\n",
       " u'Traffic Control Device Improper/Non-Working',\n",
       " u'Traffic Control Disregarded',\n",
       " u'Turning Improperly',\n",
       " u'Unsafe Lane Changing',\n",
       " u'Unsafe Speed',\n",
       " u'Unspecified',\n",
       " u'View Obstructed/Limited']"
      ]
     },
     "execution_count": 69,
     "metadata": {},
     "output_type": "execute_result"
    }
   ],
   "source": [
    "unique_CONTRIBUTING_FACTOR_2 = newcol_df.select(\"CONTRIBUTING_FACTOR_VEHICLE_2\").distinct()\n",
    "sorted(unique_CONTRIBUTING_FACTOR_2.rdd.flatMap(lambda x: x).collect())"
   ]
  },
  {
   "cell_type": "code",
   "execution_count": 71,
   "metadata": {
    "collapsed": false,
    "deletable": true,
    "editable": true
   },
   "outputs": [
    {
     "data": {
      "text/plain": [
       "57885"
      ]
     },
     "execution_count": 71,
     "metadata": {},
     "output_type": "execute_result"
    }
   ],
   "source": [
    "unique_locations = df.select(\"LOCATION\").distinct()\n",
    "# sorted(unique_CONTRIBUTING_FACTOR_2.rdd.flatMap(lambda x: x).collect())\n",
    "unique_locations.count()"
   ]
  },
  {
   "cell_type": "code",
   "execution_count": 72,
   "metadata": {
    "collapsed": false,
    "deletable": true,
    "editable": true
   },
   "outputs": [
    {
     "data": {
      "text/plain": [
       "168340"
      ]
     },
     "execution_count": 72,
     "metadata": {},
     "output_type": "execute_result"
    }
   ],
   "source": [
    "locations = df.select(\"LOCATION\")\n",
    "locations.count()"
   ]
  },
  {
   "cell_type": "code",
   "execution_count": 75,
   "metadata": {
    "collapsed": false,
    "deletable": true,
    "editable": true
   },
   "outputs": [
    {
     "data": {
      "text/plain": [
       "DataFrame[BOROUGH: string, CONTRIBUTING_FACTOR_VEHICLE_1: string, CONTRIBUTING_FACTOR_VEHICLE_2: string, CONTRIBUTING_FACTOR_VEHICLE_3: string, CONTRIBUTING_FACTOR_VEHICLE_4: string, CONTRIBUTING_FACTOR_VEHICLE_5: string, CROSS_STREET_NAME: string, DATETIME: string, LATITUDE: string, LOCATION: string, LONGITUDE: string, NUMBER_OF_CYCLIST_INJURED: string, NUMBER_OF_CYCLIST_KILLED: string, NUMBER_OF_MOTORIST_INJURED: string, NUMBER_OF_MOTORIST_KILLED: string, NUMBER_OF_PEDESTRIANS_INJURED: string, NUMBER_OF_PEDESTRIANS_KILLED: string, NUMBER_OF_PERSONS_INJURED: string, NUMBER_OF_PERSONS_KILLED: string, OFF_STREET_NAME: string, ON_STREET_NAME: string, UNIQUE_KEY: string, VEHICLE_TYPE_CODE_1: string, VEHICLE_TYPE_CODE_2: string, VEHICLE_TYPE_CODE_3: string, VEHICLE_TYPE_CODE_4: string, VEHICLE_TYPE_CODE_5: string, ZIP_CODE: string, _c28: string, Conditions: string, DateUTC: string, DatetimeEDT: string, Dew_PointF: string, Events: string, Freezing: string, Gust_SpeedMPH: string, Humidity: string, LowVisibility: string, PrecipitationIn: string, Rain: string, Sea_Level_PressureIn: string, Snow: string, TemperatureF: string, TimeEDT: string, VisibilityMPH: string, WindDirDegrees: string, Wind_Direction: string, Wind_SpeedMPH: string, Windy: string]"
      ]
     },
     "execution_count": 75,
     "metadata": {},
     "output_type": "execute_result"
    }
   ],
   "source": [
    "joins_2015 = spark.read.load('joins_in_2015.csv', format='csv', header=True, inferSchema=False)\n",
    "joins_2015.cache()"
   ]
  },
  {
   "cell_type": "code",
   "execution_count": 80,
   "metadata": {
    "collapsed": false,
    "deletable": true,
    "editable": true
   },
   "outputs": [
    {
     "data": {
      "text/plain": [
       "35408"
      ]
     },
     "execution_count": 80,
     "metadata": {},
     "output_type": "execute_result"
    }
   ],
   "source": [
    "unique_locations_2015 = joins_2015.select(\"LOCATION\").distinct()\n",
    "unique_locations_2015.count()"
   ]
  },
  {
   "cell_type": "code",
   "execution_count": 81,
   "metadata": {
    "collapsed": false,
    "deletable": true,
    "editable": true
   },
   "outputs": [
    {
     "data": {
      "text/plain": [
       "217417"
      ]
     },
     "execution_count": 81,
     "metadata": {},
     "output_type": "execute_result"
    }
   ],
   "source": [
    "locations = joins_2015.select(\"LOCATION\")\n",
    "locations.count()"
   ]
  },
  {
   "cell_type": "code",
   "execution_count": 93,
   "metadata": {
    "collapsed": false,
    "deletable": true,
    "editable": true
   },
   "outputs": [
    {
     "name": "stdout",
     "output_type": "stream",
     "text": [
      "+--------------------+-----+\n",
      "|            LOCATION|count|\n",
      "+--------------------+-----+\n",
      "|                null|34672|\n",
      "|(40.8100528, -73....|  219|\n",
      "|(40.6528929, -73....|  136|\n",
      "|(40.6960346, -73....|  135|\n",
      "|(40.7606005, -73....|  132|\n",
      "|(40.7460781, -73....|  116|\n",
      "|(40.7595273, -73....|  112|\n",
      "|(40.6757357, -73....|  111|\n",
      "|(40.7572323, -73....|  108|\n",
      "|(40.7203211, -73....|  105|\n",
      "|(40.7602226, -73....|  103|\n",
      "|(40.6585778, -73....|   96|\n",
      "|(40.7584292, -73....|   95|\n",
      "|(40.8571285, -73....|   92|\n",
      "|(40.8618642, -73....|   90|\n",
      "|(40.6781627, -73....|   90|\n",
      "|(40.7832478, -73....|   90|\n",
      "|(40.8027515, -73....|   88|\n",
      "|(40.759308, -73.9...|   88|\n",
      "|(40.7241363, -73....|   87|\n",
      "+--------------------+-----+\n",
      "only showing top 20 rows\n",
      "\n"
     ]
    }
   ],
   "source": [
    "locations.groupBy(\"LOCATION\").count().orderBy('count', ascending=False).show()"
   ]
  },
  {
   "cell_type": "code",
   "execution_count": 94,
   "metadata": {
    "collapsed": false,
    "deletable": true,
    "editable": true
   },
   "outputs": [
    {
     "data": {
      "text/plain": [
       "35408"
      ]
     },
     "execution_count": 94,
     "metadata": {},
     "output_type": "execute_result"
    }
   ],
   "source": [
    "locations.groupBy(\"LOCATION\").count().orderBy('count', ascending=False).count()"
   ]
  },
  {
   "cell_type": "code",
   "execution_count": 95,
   "metadata": {
    "collapsed": false,
    "deletable": true,
    "editable": true
   },
   "outputs": [
    {
     "data": {
      "text/plain": [
       "182745"
      ]
     },
     "execution_count": 95,
     "metadata": {},
     "output_type": "execute_result"
    }
   ],
   "source": [
    "217417-34672"
   ]
  },
  {
   "cell_type": "code",
   "execution_count": null,
   "metadata": {
    "collapsed": true,
    "deletable": true,
    "editable": true
   },
   "outputs": [],
   "source": [
    "select(\"LOCATION\").groupBy(\"LOCATION\").count().orderBy('count', ascending=False).show()"
   ]
  }
 ],
 "metadata": {
  "kernelspec": {
   "display_name": "Python 2",
   "language": "python",
   "name": "python2"
  },
  "language_info": {
   "codemirror_mode": {
    "name": "ipython",
    "version": 2
   },
   "file_extension": ".py",
   "mimetype": "text/x-python",
   "name": "python",
   "nbconvert_exporter": "python",
   "pygments_lexer": "ipython2",
   "version": "2.7.12"
  }
 },
 "nbformat": 4,
 "nbformat_minor": 2
}
