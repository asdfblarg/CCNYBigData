{
 "cells": [
  {
   "cell_type": "code",
   "execution_count": 42,
   "metadata": {
    "collapsed": false,
    "deletable": true,
    "editable": true
   },
   "outputs": [
    {
     "data": {
      "text/plain": [
       "<pyspark.context.SparkContext at 0x7fcc4e3aa450>"
      ]
     },
     "execution_count": 42,
     "metadata": {},
     "output_type": "execute_result"
    }
   ],
   "source": [
    "sc"
   ]
  },
  {
   "cell_type": "code",
   "execution_count": 43,
   "metadata": {
    "collapsed": false,
    "deletable": true,
    "editable": true
   },
   "outputs": [
    {
     "data": {
      "text/plain": [
       "DataFrame[BOROUGH: string, CONTRIBUTING_FACTOR_VEHICLE_1: string, CONTRIBUTING_FACTOR_VEHICLE_2: string, CONTRIBUTING_FACTOR_VEHICLE_3: string, CONTRIBUTING_FACTOR_VEHICLE_4: string, CONTRIBUTING_FACTOR_VEHICLE_5: string, CROSS_STREET_NAME: string, DATETIME: string, LATITUDE: string, LOCATION: string, LONGITUDE: string, NUMBER_OF_CYCLIST_INJURED: string, NUMBER_OF_CYCLIST_KILLED: string, NUMBER_OF_MOTORIST_INJURED: string, NUMBER_OF_MOTORIST_KILLED: string, NUMBER_OF_PEDESTRIANS_INJURED: string, NUMBER_OF_PEDESTRIANS_KILLED: string, NUMBER_OF_PERSONS_INJURED: string, NUMBER_OF_PERSONS_KILLED: string, OFF_STREET_NAME: string, ON_STREET_NAME: string, UNIQUE_KEY: string, VEHICLE_TYPE_CODE_1: string, VEHICLE_TYPE_CODE_2: string, VEHICLE_TYPE_CODE_3: string, VEHICLE_TYPE_CODE_4: string, VEHICLE_TYPE_CODE_5: string, ZIP_CODE: string, _c28: string, Conditions: string, DateUTC: string, DatetimeEDT: string, Dew_PointF: string, Events: string, Freezing: string, Gust_SpeedMPH: string, Humidity: string, LowVisibility: string, PrecipitationIn: string, Rain: string, Sea_Level_PressureIn: string, Snow: string, TemperatureF: string, TimeEDT: string, VisibilityMPH: string, WindDirDegrees: string, Wind_Direction: string, Wind_SpeedMPH: string, Windy: string]"
      ]
     },
     "execution_count": 43,
     "metadata": {},
     "output_type": "execute_result"
    }
   ],
   "source": [
    "from pyspark.sql.functions import col\n",
    "import pyspark.sql.functions as sf\n",
    "df = spark.read.load('joins_in_2015.csv', format='csv', header=True, inferSchema=False)\n",
    "df.cache()"
   ]
  },
  {
   "cell_type": "code",
   "execution_count": 32,
   "metadata": {
    "collapsed": false
   },
   "outputs": [
    {
     "data": {
      "text/plain": [
       "DataFrame[LOCATION: string, LATITUDE: string, LONGITUDE: string, count: bigint]"
      ]
     },
     "execution_count": 32,
     "metadata": {},
     "output_type": "execute_result"
    }
   ],
   "source": [
    "overall_df = df.filter(col('LATITUDE').isNotNull() & ~col('LATITUDE').like('0'))\\\n",
    "        .select(\"LOCATION\", 'LATITUDE', 'LONGITUDE').groupBy(\"LOCATION\", 'LATITUDE', 'LONGITUDE').count().orderBy('count', ascending=False)\n",
    "\n",
    "overall_df.cache()    \n",
    "    \n",
    "# rain_df = df.filter(col('Rain').like(\"1\") & col('LATITUDE').isNotNull() & ~col('LATITUDE').like('0'))\\\n",
    "#     .select(\"LOCATION\", 'LATITUDE', 'LONGITUDE').groupBy(\"LOCATION\", 'LATITUDE', 'LONGITUDE').count().orderBy('count', ascending=False)\n",
    "\n",
    "# snow_df = df.filter(col('Snow').like(\"1\") & col('LATITUDE').isNotNull() & ~col('LATITUDE').like('0'))\\\n",
    "#     .select(\"LOCATION\", 'LATITUDE', 'LONGITUDE').groupBy(\"LOCATION\", 'LATITUDE', 'LONGITUDE').count().orderBy('count', ascending=False)\n",
    "\n",
    "# windy_df = df.filter(col('Windy').like(\"1\") & col('LATITUDE').isNotNull() & ~col('LATITUDE').like('0'))\\\n",
    "#     .select(\"LOCATION\", 'LATITUDE', 'LONGITUDE').groupBy(\"LOCATION\", 'LATITUDE', 'LONGITUDE').count().orderBy('count', ascending=False)\n",
    "\n",
    "# low_visibility_df = df.filter(col('LowVisibility').like(\"1\") & col('LATITUDE').isNotNull() & ~col('LATITUDE').like('0'))\\\n",
    "#     .select(\"LOCATION\", 'LATITUDE', 'LONGITUDE').groupBy(\"LOCATION\", 'LATITUDE', 'LONGITUDE').count().orderBy('count', ascending=False)\n",
    "\n",
    "# inclement_df = df.filter((col('Rain').like(\"1\") | col('Snow').like(\"1\") | col('Windy').like(\"1\") | col('LowVisibility').like(\"1\") | \\\n",
    "#     col('Freezing').like(\"1\")) & col('LATITUDE').isNotNull() & ~col('LATITUDE').like('0')).select(\"LOCATION\", 'LATITUDE', 'LONGITUDE')\\\n",
    "#     .groupBy(\"LOCATION\", 'LATITUDE', 'LONGITUDE').count().orderBy('count', ascending=False)\n",
    "\n",
    "# freezing_df = df.filter(col('Freezing').like(\"1\") & col('LATITUDE').isNotNull() & ~col('LATITUDE').like('0'))\\\n",
    "#      .select(\"LOCATION\", 'LATITUDE', 'LONGITUDE').groupBy(\"LOCATION\", 'LATITUDE', 'LONGITUDE').count().orderBy('count', ascending=False)\n"
   ]
  },
  {
   "cell_type": "code",
   "execution_count": 44,
   "metadata": {
    "collapsed": false
   },
   "outputs": [],
   "source": [
    "# overall_df.show()"
   ]
  },
  {
   "cell_type": "code",
   "execution_count": 48,
   "metadata": {
    "collapsed": false,
    "deletable": true,
    "editable": true
   },
   "outputs": [
    {
     "name": "stdout",
     "output_type": "stream",
     "text": [
      "+--------------------+----------+-----------+----------+\n",
      "|            LOCATION|  LATITUDE|  LONGITUDE|rain_count|\n",
      "+--------------------+----------+-----------+----------+\n",
      "|                null|      null|       null|      1815|\n",
      "|(40.8100528, -73....|40.8100528|-73.9251435|        11|\n",
      "|(40.8285193, -73....|40.8285193|-73.8411794|        11|\n",
      "|(40.6685062, -73....|40.6685062|-73.9256052|         9|\n",
      "|(40.6694023, -73....|40.6694023|-73.9421971|         9|\n",
      "|(40.759308, -73.9...| 40.759308|-73.9652931|         9|\n",
      "|(40.7596199, -73....|40.7596199|-73.9619648|         8|\n",
      "|(40.7850321, -73....|40.7850321|-73.9405708|         7|\n",
      "|(40.6482565, -73....|40.6482565|-73.9713978|         7|\n",
      "|(40.6774132, -73....|40.6774132|-73.9303181|         7|\n",
      "|(40.820189, -73.8...| 40.820189|-73.8906752|         7|\n",
      "|(40.7139131, -73....|40.7139131|-73.8300825|         7|\n",
      "|(40.7197624, -73....|40.7197624|-73.9447576|         7|\n",
      "|(40.8289603, -73....|40.8289603|-73.8420547|         7|\n",
      "|(40.7584292, -73....|40.7584292|-73.9926328|         7|\n",
      "|(40.7199725, -73....|40.7199725|-73.9928968|         7|\n",
      "|(40.7619942, -73....|40.7619942|-73.7584818|         7|\n",
      "|(40.750766, -73.9...| 40.750766|-73.9744433|         7|\n",
      "|(40.7460781, -73....|40.7460781|-73.9749359|         7|\n",
      "|(40.7832478, -73....|40.7832478|-73.9447234|         7|\n",
      "+--------------------+----------+-----------+----------+\n",
      "only showing top 20 rows\n",
      "\n"
     ]
    }
   ],
   "source": [
    "rain_counts = df.select(\"LOCATION\", 'LATITUDE', 'LONGITUDE', df.Rain.cast(\"integer\").alias(\"Rain\"))\\\n",
    ".groupBy(\"LOCATION\", 'LATITUDE', 'LONGITUDE').agg(sf.sum('Rain').alias('rain_count')).orderBy('rain_count', ascending=False)\n",
    "\n",
    "rain_counts.show()"
   ]
  },
  {
   "cell_type": "code",
   "execution_count": 49,
   "metadata": {
    "collapsed": false
   },
   "outputs": [
    {
     "data": {
      "text/plain": [
       "35408"
      ]
     },
     "execution_count": 49,
     "metadata": {},
     "output_type": "execute_result"
    }
   ],
   "source": [
    "rain_counts.count()"
   ]
  },
  {
   "cell_type": "code",
   "execution_count": 50,
   "metadata": {
    "collapsed": false,
    "deletable": true,
    "editable": true,
    "scrolled": true
   },
   "outputs": [
    {
     "name": "stdout",
     "output_type": "stream",
     "text": [
      "+--------------------+----------+-----------+-----+----------+\n",
      "|            LOCATION|  LATITUDE|  LONGITUDE|count|rain_count|\n",
      "+--------------------+----------+-----------+-----+----------+\n",
      "|(40.8100528, -73....|40.8100528|-73.9251435|  219|        11|\n",
      "|(40.6528929, -73....|40.6528929|-73.8667311|  136|         4|\n",
      "|(40.6960346, -73....|40.6960346|-73.9845292|  135|         6|\n",
      "|(40.7606005, -73....|40.7606005|-73.9643142|  132|         4|\n",
      "|(40.7460781, -73....|40.7460781|-73.9749359|  116|         7|\n",
      "|(40.7595273, -73....|40.7595273| -73.999242|  112|         6|\n",
      "|(40.6757357, -73....|40.6757357|-73.8968533|  111|         3|\n",
      "|(40.7572323, -73....|40.7572323|-73.9897922|  108|         1|\n",
      "|(40.7203211, -73....|40.7203211|-73.9940403|  105|         6|\n",
      "|(40.7602226, -73....|40.7602226| -73.967462|  103|         4|\n",
      "|(40.6585778, -73....|40.6585778|-73.8906229|   96|         3|\n",
      "|(40.7584292, -73....|40.7584292|-73.9926328|   95|         7|\n",
      "|(40.8571285, -73....|40.8571285|-73.8807926|   92|         2|\n",
      "|(40.7832478, -73....|40.7832478|-73.9447234|   90|         7|\n",
      "|(40.6781627, -73....|40.6781627|-73.8974769|   90|         3|\n",
      "|(40.8618642, -73....|40.8618642|-73.9127392|   90|         3|\n",
      "|(40.759308, -73.9...| 40.759308|-73.9652931|   88|         9|\n",
      "|(40.8027515, -73....|40.8027515| -73.933575|   88|         3|\n",
      "|(40.7241363, -73....|40.7241363|-73.9926041|   87|         4|\n",
      "|(40.6631828, -73....|40.6631828|-73.9624487|   87|         2|\n",
      "+--------------------+----------+-----------+-----+----------+\n",
      "only showing top 20 rows\n",
      "\n"
     ]
    }
   ],
   "source": [
    "joined_rain_counts = overall_df.join(rain_counts.select(\"LOCATION\",\"rain_count\"), \"LOCATION\")\n",
    "joined_rain_counts.show()"
   ]
  },
  {
   "cell_type": "code",
   "execution_count": 52,
   "metadata": {
    "collapsed": false
   },
   "outputs": [
    {
     "name": "stdout",
     "output_type": "stream",
     "text": [
      "+--------------------+----------+-----------+-----+----------+------------+\n",
      "|            LOCATION|  LATITUDE|  LONGITUDE|count|rain_count|percent_rain|\n",
      "+--------------------+----------+-----------+-----+----------+------------+\n",
      "|(40.7710869, -73....|40.7710869| -73.804419|    3|         3|       100.0|\n",
      "|(40.7076317, -73....|40.7076317| -73.915841|    3|         3|       100.0|\n",
      "|(40.7318009, -73....|40.7318009|-73.7170754|    2|         2|       100.0|\n",
      "|(40.8566278, -73....|40.8566278|-73.9393519|    2|         2|       100.0|\n",
      "|(40.7365763, -73....|40.7365763|-73.9077101|    2|         2|       100.0|\n",
      "|(40.7658552, -73....|40.7658552|-73.9145003|    2|         2|       100.0|\n",
      "|(40.767701, -73.7...| 40.767701|-73.7792302|    2|         2|       100.0|\n",
      "|(40.6993586, -73....|40.6993586|-73.8423382|    2|         2|       100.0|\n",
      "|(40.5880534, -74....|40.5880534| -74.093535|    2|         2|       100.0|\n",
      "|(40.77396, -73.91...|  40.77396| -73.917761|    2|         2|       100.0|\n",
      "|(40.8610017, -73....|40.8610017|-73.8484045|    2|         2|       100.0|\n",
      "|(40.7298565, -74....|40.7298565|-74.0039544|    2|         2|       100.0|\n",
      "|(40.682097, -73.8...| 40.682097| -73.801709|    2|         2|       100.0|\n",
      "|(40.7200577, -74....|40.7200577|-74.0056566|    2|         2|       100.0|\n",
      "|(40.7381238, -73....|40.7381238|-73.7046388|    2|         2|       100.0|\n",
      "|(40.762987, -73.7...| 40.762987|-73.7285343|    2|         2|       100.0|\n",
      "|(40.8362216, -73....|40.8362216|-73.8563138|    2|         2|       100.0|\n",
      "|(40.903558, -73.8...| 40.903558|-73.8441798|    2|         2|       100.0|\n",
      "|(40.8961082, -73....|40.8961082| -73.847742|    2|         2|       100.0|\n",
      "|(40.7660747, -73....|40.7660747|-73.7284567|    2|         2|       100.0|\n",
      "+--------------------+----------+-----------+-----+----------+------------+\n",
      "only showing top 20 rows\n",
      "\n"
     ]
    }
   ],
   "source": [
    "rain_percents = joined_rain_counts.select(\"*\", ((joined_rain_counts['rain_count']/joined_rain_counts['count'])*100).alias(\"percent_rain\")).orderBy(['percent_rain','count'], ascending=False)\n",
    "rain_percents.show()"
   ]
  },
  {
   "cell_type": "code",
   "execution_count": 80,
   "metadata": {
    "collapsed": false
   },
   "outputs": [
    {
     "data": {
      "text/plain": [
       "35407"
      ]
     },
     "execution_count": 80,
     "metadata": {},
     "output_type": "execute_result"
    }
   ],
   "source": [
    "# test_percent = rain_percents.filter(col('percent_rain') > 50).filter(col('percent_rain') < 100)\n",
    "test_percent = rain_percents.filter(col('percent_rain') >= 0)\n",
    "test_percent.count()\n",
    "# test_percent.show(42)"
   ]
  },
  {
   "cell_type": "code",
   "execution_count": 57,
   "metadata": {
    "collapsed": false
   },
   "outputs": [
    {
     "name": "stdout",
     "output_type": "stream",
     "text": [
      "+--------------------+----------+-----------+-----+----------+------------+\n",
      "|            LOCATION|  LATITUDE|  LONGITUDE|count|rain_count|percent_rain|\n",
      "+--------------------+----------+-----------+-----+----------+------------+\n",
      "|(40.7710869, -73....|40.7710869| -73.804419|    3|         3|       100.0|\n",
      "|(40.7076317, -73....|40.7076317| -73.915841|    3|         3|       100.0|\n",
      "|(40.7318009, -73....|40.7318009|-73.7170754|    2|         2|       100.0|\n",
      "|(40.7365763, -73....|40.7365763|-73.9077101|    2|         2|       100.0|\n",
      "|(40.6993586, -73....|40.6993586|-73.8423382|    2|         2|       100.0|\n",
      "|(40.7381238, -73....|40.7381238|-73.7046388|    2|         2|       100.0|\n",
      "|(40.5880534, -74....|40.5880534| -74.093535|    2|         2|       100.0|\n",
      "|(40.682097, -73.8...| 40.682097| -73.801709|    2|         2|       100.0|\n",
      "|(40.7200577, -74....|40.7200577|-74.0056566|    2|         2|       100.0|\n",
      "|(40.7658552, -73....|40.7658552|-73.9145003|    2|         2|       100.0|\n",
      "|(40.77396, -73.91...|  40.77396| -73.917761|    2|         2|       100.0|\n",
      "|(40.8610017, -73....|40.8610017|-73.8484045|    2|         2|       100.0|\n",
      "|(40.762987, -73.7...| 40.762987|-73.7285343|    2|         2|       100.0|\n",
      "|(40.7660747, -73....|40.7660747|-73.7284567|    2|         2|       100.0|\n",
      "|(40.7298565, -74....|40.7298565|-74.0039544|    2|         2|       100.0|\n",
      "|(40.767701, -73.7...| 40.767701|-73.7792302|    2|         2|       100.0|\n",
      "|(40.8566278, -73....|40.8566278|-73.9393519|    2|         2|       100.0|\n",
      "|(40.903558, -73.8...| 40.903558|-73.8441798|    2|         2|       100.0|\n",
      "|(40.8362216, -73....|40.8362216|-73.8563138|    2|         2|       100.0|\n",
      "|(40.8961082, -73....|40.8961082| -73.847742|    2|         2|       100.0|\n",
      "+--------------------+----------+-----------+-----+----------+------------+\n",
      "only showing top 20 rows\n",
      "\n"
     ]
    }
   ],
   "source": [
    "rain_counts = df.select(\"LOCATION\", 'LATITUDE', 'LONGITUDE', df.Rain.cast(\"integer\").alias(\"Rain\"))\\\n",
    ".groupBy(\"LOCATION\", 'LATITUDE', 'LONGITUDE').agg(sf.sum('Rain').alias('rain_count')).orderBy('rain_count', ascending=False)\n",
    "\n",
    "joined_rain_counts = overall_df.join(rain_counts.select(\"LOCATION\",\"rain_count\"), \"LOCATION\")\n",
    "\n",
    "rain_percents = joined_rain_counts.select(\"*\", ((joined_rain_counts['rain_count']/joined_rain_counts['count'])*100).alias(\"percent_rain\")).orderBy(['percent_rain','count'], ascending=False)\n",
    "rain_percents.show()"
   ]
  },
  {
   "cell_type": "code",
   "execution_count": 93,
   "metadata": {
    "collapsed": false
   },
   "outputs": [
    {
     "name": "stdout",
     "output_type": "stream",
     "text": [
      "+--------------------+----------+-----------+-----+----------+------------+\n",
      "|            LOCATION|  LATITUDE|  LONGITUDE|count|rain_count|percent_rain|\n",
      "+--------------------+----------+-----------+-----+----------+------------+\n",
      "|(40.7076317, -73....|40.7076317| -73.915841|    3|         3|       100.0|\n",
      "|(40.7710869, -73....|40.7710869| -73.804419|    3|         3|       100.0|\n",
      "|(40.7318009, -73....|40.7318009|-73.7170754|    2|         2|       100.0|\n",
      "|(40.7365763, -73....|40.7365763|-73.9077101|    2|         2|       100.0|\n",
      "|(40.6993586, -73....|40.6993586|-73.8423382|    2|         2|       100.0|\n",
      "|(40.762987, -73.7...| 40.762987|-73.7285343|    2|         2|       100.0|\n",
      "|(40.5880534, -74....|40.5880534| -74.093535|    2|         2|       100.0|\n",
      "|(40.682097, -73.8...| 40.682097| -73.801709|    2|         2|       100.0|\n",
      "|(40.7200577, -74....|40.7200577|-74.0056566|    2|         2|       100.0|\n",
      "|(40.903558, -73.8...| 40.903558|-73.8441798|    2|         2|       100.0|\n",
      "|(40.7381238, -73....|40.7381238|-73.7046388|    2|         2|       100.0|\n",
      "|(40.7658552, -73....|40.7658552|-73.9145003|    2|         2|       100.0|\n",
      "|(40.8610017, -73....|40.8610017|-73.8484045|    2|         2|       100.0|\n",
      "|(40.7660747, -73....|40.7660747|-73.7284567|    2|         2|       100.0|\n",
      "|(40.7298565, -74....|40.7298565|-74.0039544|    2|         2|       100.0|\n",
      "|(40.767701, -73.7...| 40.767701|-73.7792302|    2|         2|       100.0|\n",
      "|(40.8566278, -73....|40.8566278|-73.9393519|    2|         2|       100.0|\n",
      "|(40.8362216, -73....|40.8362216|-73.8563138|    2|         2|       100.0|\n",
      "|(40.77396, -73.91...|  40.77396| -73.917761|    2|         2|       100.0|\n",
      "|(40.8961082, -73....|40.8961082| -73.847742|    2|         2|       100.0|\n",
      "+--------------------+----------+-----------+-----+----------+------------+\n",
      "only showing top 20 rows\n",
      "\n"
     ]
    }
   ],
   "source": [
    "rain_counts = df.select(\"LOCATION\", 'LATITUDE', 'LONGITUDE', df.Rain.cast(\"integer\").alias(\"Rain\"))\\\n",
    ".groupBy(\"LOCATION\", 'LATITUDE', 'LONGITUDE').agg(sf.sum('Rain').alias('rain_count')).orderBy('rain_count', ascending=False)\n",
    "\n",
    "joined_rain_counts = overall_df.join(rain_counts.select(\"LOCATION\",\"rain_count\"), \"LOCATION\")\n",
    "\n",
    "rain_percents = joined_rain_counts.select(\"*\", ((joined_rain_counts['rain_count']/joined_rain_counts['count'])*100).alias(\"percent_rain\")).orderBy(['percent_rain','count'], ascending=False)\n",
    "rain_percents.show()"
   ]
  },
  {
   "cell_type": "code",
   "execution_count": 59,
   "metadata": {
    "collapsed": false
   },
   "outputs": [
    {
     "name": "stdout",
     "output_type": "stream",
     "text": [
      "+--------------------+----------+-----------+-----+----------+------------+\n",
      "|            LOCATION|  LATITUDE|  LONGITUDE|count|snow_count|percent_snow|\n",
      "+--------------------+----------+-----------+-----+----------+------------+\n",
      "|(40.7117777, -73....|40.7117777|-73.9104143|    2|         2|       100.0|\n",
      "|(40.5980988, -73....|40.5980988|-73.9434111|    2|         2|       100.0|\n",
      "|(40.7717379, -73....|40.7717379|-73.8014927|    2|         2|       100.0|\n",
      "|(40.7123496, -73....|40.7123496|-73.8443563|    2|         2|       100.0|\n",
      "|(40.5960383, -74....|40.5960383| -74.082416|    2|         2|       100.0|\n",
      "|(40.7406421, -73....|40.7406421|-73.7581875|    2|         2|       100.0|\n",
      "|(40.7925339, -73....|40.7925339| -73.841695|    2|         2|       100.0|\n",
      "|(40.7093579, -73....|40.7093579|-73.8080447|    2|         2|       100.0|\n",
      "|(40.7161154, -73....|40.7161154| -73.824898|    2|         2|       100.0|\n",
      "|(40.5875049, -73....|40.5875049|-73.9259402|    2|         2|       100.0|\n",
      "|(40.6922182, -73....|40.6922182|-73.8474864|    1|         1|       100.0|\n",
      "|(40.6397209, -73....|40.6397209|-73.7425082|    1|         1|       100.0|\n",
      "|(40.5812049, -73....|40.5812049|-73.9568284|    1|         1|       100.0|\n",
      "|(40.5412928, -74....|40.5412928|-74.2068967|    1|         1|       100.0|\n",
      "|(40.7008187, -73....|40.7008187|-73.7276766|    1|         1|       100.0|\n",
      "|(40.627213, -73.9...| 40.627213|-73.9989373|    1|         1|       100.0|\n",
      "|(40.8178633, -73....|40.8178633| -73.838506|    1|         1|       100.0|\n",
      "|(40.6584005, -73....|40.6584005|-73.7569394|    1|         1|       100.0|\n",
      "|(40.7935998, -73....|40.7935998|-73.8464741|    1|         1|       100.0|\n",
      "|(40.7244199, -73....|40.7244199|-73.8106242|    1|         1|       100.0|\n",
      "+--------------------+----------+-----------+-----+----------+------------+\n",
      "only showing top 20 rows\n",
      "\n"
     ]
    }
   ],
   "source": [
    "snow_counts = df.select(\"LOCATION\", 'LATITUDE', 'LONGITUDE', df.Snow.cast(\"integer\").alias(\"snow\"))\\\n",
    ".groupBy(\"LOCATION\", 'LATITUDE', 'LONGITUDE').agg(sf.sum('snow').alias('snow_count')).orderBy('snow_count', ascending=False)\n",
    "\n",
    "joined_snow_counts = overall_df.join(snow_counts.select(\"LOCATION\",\"snow_count\"), \"LOCATION\")\n",
    "\n",
    "snow_percents = joined_snow_counts.select(\"*\", ((joined_snow_counts['snow_count']/joined_snow_counts['count'])*100).alias(\"percent_snow\")).orderBy(['percent_snow','count'], ascending=False)\n",
    "snow_percents.show()"
   ]
  },
  {
   "cell_type": "code",
   "execution_count": 61,
   "metadata": {
    "collapsed": false
   },
   "outputs": [
    {
     "name": "stdout",
     "output_type": "stream",
     "text": [
      "+--------------------+----------+-----------+-----+-----------+-------------+\n",
      "|            LOCATION|  LATITUDE|  LONGITUDE|count|windy_count|percent_windy|\n",
      "+--------------------+----------+-----------+-----+-----------+-------------+\n",
      "|(40.5621305, -74....|40.5621305|-74.1334081|    2|          2|        100.0|\n",
      "|(40.6849302, -73....|40.6849302| -73.882056|    1|          1|        100.0|\n",
      "|(40.5653054, -74....|40.5653054|-74.1837023|    1|          1|        100.0|\n",
      "|(40.6895098, -73....|40.6895098|-73.8044275|    1|          1|        100.0|\n",
      "|(40.7598833, -73....|40.7598833| -73.878559|    1|          1|        100.0|\n",
      "|(40.7029733, -73....|40.7029733|-73.7636692|    1|          1|        100.0|\n",
      "|(40.8331857, -73....|40.8331857|-73.9302128|    1|          1|        100.0|\n",
      "|(40.7176557, -73....|40.7176557|-73.7967923|    1|          1|        100.0|\n",
      "|(40.7497466, -73....|40.7497466|-73.9699466|    1|          1|        100.0|\n",
      "|(40.6408362, -74....|40.6408362|-74.1171202|    1|          1|        100.0|\n",
      "|(40.6650945, -73....|40.6650945|-73.7769998|    1|          1|        100.0|\n",
      "|(40.629653, -74.0...| 40.629653|-74.0048888|    1|          1|        100.0|\n",
      "|(40.746242, -73.7...| 40.746242|-73.7597804|    1|          1|        100.0|\n",
      "|(40.6529324, -73....|40.6529324|-73.7320382|    1|          1|        100.0|\n",
      "|(40.5516657, -74....|40.5516657|-74.1908977|    1|          1|        100.0|\n",
      "|(40.5139733, -74....|40.5139733|-74.2355116|    1|          1|        100.0|\n",
      "|(40.705611, -73.8...| 40.705611|-73.8128778|    1|          1|        100.0|\n",
      "|(40.5779851, -74....|40.5779851| -74.100519|    1|          1|        100.0|\n",
      "|(40.8116075, -73....|40.8116075|-73.9363803|    1|          1|        100.0|\n",
      "|(40.7832237, -73....|40.7832237|-73.8377125|    1|          1|        100.0|\n",
      "+--------------------+----------+-----------+-----+-----------+-------------+\n",
      "only showing top 20 rows\n",
      "\n"
     ]
    }
   ],
   "source": [
    "windy_counts = df.select(\"LOCATION\", 'LATITUDE', 'LONGITUDE', df.Windy.cast(\"integer\").alias(\"windy\"))\\\n",
    ".groupBy(\"LOCATION\", 'LATITUDE', 'LONGITUDE').agg(sf.sum('windy').alias('windy_count')).orderBy('windy_count', ascending=False)\n",
    "\n",
    "joined_windy_counts = overall_df.join(windy_counts.select(\"LOCATION\",\"windy_count\"), \"LOCATION\")\n",
    "\n",
    "windy_percents = joined_windy_counts.select(\"*\", ((joined_windy_counts['windy_count']/joined_windy_counts['count'])*100).alias(\"percent_windy\")).orderBy(['percent_windy','count'], ascending=False)\n",
    "windy_percents.show()"
   ]
  },
  {
   "cell_type": "code",
   "execution_count": 62,
   "metadata": {
    "collapsed": false
   },
   "outputs": [
    {
     "name": "stdout",
     "output_type": "stream",
     "text": [
      "+--------------------+----------+-----------+-----+--------------------+----------------------+\n",
      "|            LOCATION|  LATITUDE|  LONGITUDE|count|low_visibility_count|percent_low_visibility|\n",
      "+--------------------+----------+-----------+-----+--------------------+----------------------+\n",
      "|(40.7076317, -73....|40.7076317| -73.915841|    3|                   3|                 100.0|\n",
      "|(40.7710869, -73....|40.7710869| -73.804419|    3|                   3|                 100.0|\n",
      "|(40.7496779, -73....|40.7496779|-73.8267358|    2|                   2|                 100.0|\n",
      "|(40.6874871, -73....|40.6874871|-73.7505666|    2|                   2|                 100.0|\n",
      "|(40.8961082, -73....|40.8961082| -73.847742|    2|                   2|                 100.0|\n",
      "|(40.7925339, -73....|40.7925339| -73.841695|    2|                   2|                 100.0|\n",
      "|(40.6112857, -74....|40.6112857|-74.1087305|    2|                   2|                 100.0|\n",
      "|(40.6273254, -73....|40.6273254|-73.9929607|    2|                   2|                 100.0|\n",
      "|(40.5960383, -74....|40.5960383| -74.082416|    2|                   2|                 100.0|\n",
      "|(40.6906828, -73....|40.6906828|-73.8530467|    2|                   2|                 100.0|\n",
      "|(40.7406421, -73....|40.7406421|-73.7581875|    2|                   2|                 100.0|\n",
      "|(40.5475366, -74....|40.5475366|-74.1802862|    2|                   2|                 100.0|\n",
      "|(40.77396, -73.91...|  40.77396| -73.917761|    2|                   2|                 100.0|\n",
      "|(40.8539443, -73....|40.8539443|-73.8586613|    2|                   2|                 100.0|\n",
      "|(40.6780026, -73....|40.6780026|-73.8601482|    2|                   2|                 100.0|\n",
      "|(40.709689, -73.9...| 40.709689|-73.9912506|    2|                   2|                 100.0|\n",
      "|(40.7717379, -73....|40.7717379|-73.8014927|    2|                   2|                 100.0|\n",
      "|(40.7093579, -73....|40.7093579|-73.8080447|    2|                   2|                 100.0|\n",
      "|(40.6893758, -73....|40.6893758|-73.7936967|    2|                   2|                 100.0|\n",
      "|(40.7123496, -73....|40.7123496|-73.8443563|    2|                   2|                 100.0|\n",
      "+--------------------+----------+-----------+-----+--------------------+----------------------+\n",
      "only showing top 20 rows\n",
      "\n"
     ]
    }
   ],
   "source": [
    "low_visibility_counts = df.select(\"LOCATION\", 'LATITUDE', 'LONGITUDE', df.LowVisibility.cast(\"integer\").alias(\"low_visibility\"))\\\n",
    ".groupBy(\"LOCATION\", 'LATITUDE', 'LONGITUDE').agg(sf.sum('low_visibility').alias('low_visibility_count')).orderBy('low_visibility_count', ascending=False)\n",
    "\n",
    "joined_low_visibility_counts = overall_df.join(low_visibility_counts.select(\"LOCATION\",\"low_visibility_count\"), \"LOCATION\")\n",
    "\n",
    "low_visibility_percents = joined_low_visibility_counts.select(\"*\", ((joined_low_visibility_counts['low_visibility_count']/joined_low_visibility_counts['count'])*100).alias(\"percent_low_visibility\")).orderBy(['percent_low_visibility','count'], ascending=False)\n",
    "low_visibility_percents.show()"
   ]
  },
  {
   "cell_type": "code",
   "execution_count": 63,
   "metadata": {
    "collapsed": false
   },
   "outputs": [
    {
     "name": "stdout",
     "output_type": "stream",
     "text": [
      "+--------------------+----------+-----------+-----+--------------+----------------+\n",
      "|            LOCATION|  LATITUDE|  LONGITUDE|count|freezing_count|percent_freezing|\n",
      "+--------------------+----------+-----------+-----+--------------+----------------+\n",
      "|(40.6649238, -73....|40.6649238|-73.8241022|    4|             4|           100.0|\n",
      "|(40.6994527, -73....|40.6994527|-73.8221311|    4|             4|           100.0|\n",
      "|(40.6661608, -73....|40.6661608|-73.8415001|    3|             3|           100.0|\n",
      "|(40.6765112, -73....|40.6765112|-73.8326942|    3|             3|           100.0|\n",
      "|(40.6900457, -73....|40.6900457|-73.8616591|    3|             3|           100.0|\n",
      "|(40.829141, -73.9...| 40.829141|-73.9081027|    3|             3|           100.0|\n",
      "|(40.6826929, -73....|40.6826929|-73.9904237|    3|             3|           100.0|\n",
      "|(40.5962949, -74....|40.5962949|-74.0949004|    3|             3|           100.0|\n",
      "|(40.6254635, -73....|40.6254635|-73.9838323|    3|             3|           100.0|\n",
      "|(40.600218, -73.9...| 40.600218|-73.9438162|    3|             3|           100.0|\n",
      "|(40.6523722, -73....|40.6523722|-73.8674457|    3|             3|           100.0|\n",
      "|(40.5686917, -74....|40.5686917|-74.1146109|    3|             3|           100.0|\n",
      "|(40.6861056, -73....|40.6861056|-73.7945794|    3|             3|           100.0|\n",
      "|(40.5583883, -74....|40.5583883|   -74.1366|    3|             3|           100.0|\n",
      "|(40.7207425, -73....|40.7207425|-73.9009143|    3|             3|           100.0|\n",
      "|(40.6650412, -73....|40.6650412|-73.8240664|    2|             2|           100.0|\n",
      "|(40.7406421, -73....|40.7406421|-73.7581875|    2|             2|           100.0|\n",
      "|(40.5338821, -74....|40.5338821|-74.1623044|    2|             2|           100.0|\n",
      "|(40.6789568, -73....|40.6789568| -73.954126|    2|             2|           100.0|\n",
      "|(40.7925339, -73....|40.7925339| -73.841695|    2|             2|           100.0|\n",
      "+--------------------+----------+-----------+-----+--------------+----------------+\n",
      "only showing top 20 rows\n",
      "\n"
     ]
    }
   ],
   "source": [
    "freezing_counts = df.select(\"LOCATION\", 'LATITUDE', 'LONGITUDE', df.Freezing.cast(\"integer\").alias(\"freezing\"))\\\n",
    ".groupBy(\"LOCATION\", 'LATITUDE', 'LONGITUDE').agg(sf.sum('freezing').alias('freezing_count')).orderBy('freezing_count', ascending=False)\n",
    "\n",
    "joined_freezing_counts = overall_df.join(freezing_counts.select(\"LOCATION\",\"freezing_count\"), \"LOCATION\")\n",
    "\n",
    "freezing_percents = joined_freezing_counts.select(\"*\", ((joined_freezing_counts['freezing_count']/joined_freezing_counts['count'])*100).alias(\"percent_freezing\")).orderBy(['percent_freezing','count'], ascending=False)\n",
    "freezing_percents.show()"
   ]
  },
  {
   "cell_type": "code",
   "execution_count": 94,
   "metadata": {
    "collapsed": false
   },
   "outputs": [
    {
     "data": {
      "text/plain": [
       "[Row(LOCATION=u'(40.5255456, -74.2054595)', LATITUDE=u'40.5255456', LONGITUDE=u'-74.2054595', count=4, rain_count=1, percent_rain=25.0, snow_count=0, percent_snow=0.0, windy_count=0, percent_windy=0.0, low_visibility_count=1, percent_low_visibility=25.0, freezing_count=0, percent_freezing=0.0)]"
      ]
     },
     "execution_count": 94,
     "metadata": {},
     "output_type": "execute_result"
    }
   ],
   "source": [
    "overall_join = overall_df.join(rain_percents.select(\"LOCATION\",\"rain_count\", \"percent_rain\"), \"LOCATION\")\n",
    "overall_join = overall_join.join(snow_percents.select(\"LOCATION\",\"snow_count\", \"percent_snow\"), \"LOCATION\")\n",
    "overall_join = overall_join.join(windy_percents.select(\"LOCATION\",\"windy_count\", \"percent_windy\"), \"LOCATION\")\n",
    "overall_join = overall_join.join(low_visibility_percents.select(\"LOCATION\",\"low_visibility_count\", \"percent_low_visibility\"), \"LOCATION\")\n",
    "overall_join = overall_join.join(freezing_percents.select(\"LOCATION\",\"freezing_count\", \"percent_freezing\"), \"LOCATION\")\n",
    "\n",
    "overall_join.take(1)"
   ]
  },
  {
   "cell_type": "code",
   "execution_count": 95,
   "metadata": {
    "collapsed": false
   },
   "outputs": [],
   "source": [
    "overall_join.coalesce(1).write.csv(\"2015_coords_for_carto_normalized/2015_overall_coords_norm\", header=True)"
   ]
  },
  {
   "cell_type": "code",
   "execution_count": 97,
   "metadata": {
    "collapsed": false
   },
   "outputs": [],
   "source": [
    "rain_percents_filtered = rain_percents.filter(col('rain_count') > 0)\n",
    "snow_percents_filtered = snow_percents.filter(col('snow_count') > 0)\n",
    "windy_percents_filtered = windy_percents.filter(col('windy_count') > 0)\n",
    "low_visibility_percents_filtered = low_visibility_percents.filter(col('low_visibility_count') > 0)\n",
    "freezing_percents_filtered = freezing_percents.filter(col('freezing_count') > 0)"
   ]
  },
  {
   "cell_type": "code",
   "execution_count": 102,
   "metadata": {
    "collapsed": false
   },
   "outputs": [
    {
     "data": {
      "text/plain": [
       "12781"
      ]
     },
     "execution_count": 102,
     "metadata": {},
     "output_type": "execute_result"
    }
   ],
   "source": [
    "freezing_percents_filtered.count()"
   ]
  },
  {
   "cell_type": "code",
   "execution_count": 88,
   "metadata": {
    "collapsed": true
   },
   "outputs": [],
   "source": [
    "rain_percents_filtered.coalesce(1).write.csv(\"2015_coords_for_carto_normalized/2015_rain_coords_norm\", header=True)\n",
    "snow_percents_filtered.coalesce(1).write.csv(\"2015_coords_for_carto_normalized/2015_snow_coords_norm\", header=True)\n",
    "windy_percents_filtered.coalesce(1).write.csv(\"2015_coords_for_carto_normalized/2015_windy_coords_norm\", header=True)\n",
    "low_visibility_percents_filtered.coalesce(1).write.csv(\"2015_coords_for_carto_normalized/2015_low_visibility_coords_norm\", header=True)\n",
    "freezing_percents_filtered.coalesce(1).write.csv(\"2015_coords_for_carto_normalized/2015_freezing_coords_norm\", header=True)"
   ]
  },
  {
   "cell_type": "code",
   "execution_count": 90,
   "metadata": {
    "collapsed": false
   },
   "outputs": [
    {
     "data": {
      "text/plain": [
       "35407"
      ]
     },
     "execution_count": 90,
     "metadata": {},
     "output_type": "execute_result"
    }
   ],
   "source": [
    "overall_join.count()"
   ]
  },
  {
   "cell_type": "code",
   "execution_count": 92,
   "metadata": {
    "collapsed": false
   },
   "outputs": [
    {
     "data": {
      "text/plain": [
       "[Row(LOCATION=u'(40.5255456, -74.2054595)', LATITUDE=u'40.5255456', LONGITUDE=u'-74.2054595', count=4, rain_count=1, percent_rain=25.0, snow_count=0, percent_snow=0.0, snow_count=0, percent_snow=0.0, snow_count=0, percent_snow=0.0, windy_count=0, percent_windy=0.0, snow_count=0, percent_snow=0.0, windy_count=0, percent_windy=0.0, low_visibility_count=1, percent_low_visibility=25.0, freezing_count=0, percent_freezing=0.0)]"
      ]
     },
     "execution_count": 92,
     "metadata": {},
     "output_type": "execute_result"
    }
   ],
   "source": [
    "overall_join.take(1)"
   ]
  },
  {
   "cell_type": "code",
   "execution_count": null,
   "metadata": {
    "collapsed": true
   },
   "outputs": [],
   "source": []
  }
 ],
 "metadata": {
  "kernelspec": {
   "display_name": "Python 2",
   "language": "python",
   "name": "python2"
  },
  "language_info": {
   "codemirror_mode": {
    "name": "ipython",
    "version": 2
   },
   "file_extension": ".py",
   "mimetype": "text/x-python",
   "name": "python",
   "nbconvert_exporter": "python",
   "pygments_lexer": "ipython2",
   "version": "2.7.12"
  }
 },
 "nbformat": 4,
 "nbformat_minor": 2
}
