{
 "cells": [
  {
   "cell_type": "code",
   "execution_count": 8,
   "metadata": {
    "collapsed": false
   },
   "outputs": [
    {
     "data": {
      "text/plain": [
       "<pyspark.context.SparkContext at 0x7f018ddb1450>"
      ]
     },
     "execution_count": 8,
     "metadata": {},
     "output_type": "execute_result"
    }
   ],
   "source": [
    "sc"
   ]
  },
  {
   "cell_type": "code",
   "execution_count": 9,
   "metadata": {
    "collapsed": false
   },
   "outputs": [
    {
     "data": {
      "text/plain": [
       "DataFrame[BOROUGH: string, CONTRIBUTING_FACTOR_VEHICLE_1: string, CONTRIBUTING_FACTOR_VEHICLE_2: string, CONTRIBUTING_FACTOR_VEHICLE_3: string, CONTRIBUTING_FACTOR_VEHICLE_4: string, CONTRIBUTING_FACTOR_VEHICLE_5: string, CROSS_STREET_NAME: string, DATETIME: string, LATITUDE: string, LOCATION: string, LONGITUDE: string, NUMBER_OF_CYCLIST_INJURED: string, NUMBER_OF_CYCLIST_KILLED: string, NUMBER_OF_MOTORIST_INJURED: string, NUMBER_OF_MOTORIST_KILLED: string, NUMBER_OF_PEDESTRIANS_INJURED: string, NUMBER_OF_PEDESTRIANS_KILLED: string, NUMBER_OF_PERSONS_INJURED: string, NUMBER_OF_PERSONS_KILLED: string, OFF_STREET_NAME: string, ON_STREET_NAME: string, UNIQUE_KEY: string, VEHICLE_TYPE_CODE_1: string, VEHICLE_TYPE_CODE_2: string, VEHICLE_TYPE_CODE_3: string, VEHICLE_TYPE_CODE_4: string, VEHICLE_TYPE_CODE_5: string, ZIP_CODE: string, _c28: string, Conditions: string, DateUTC: string, DatetimeEDT: string, Dew_PointF: string, Events: string, Freezing: string, Gust_SpeedMPH: string, Humidity: string, LowVisibility: string, PrecipitationIn: string, Rain: string, Sea_Level_PressureIn: string, Snow: string, TemperatureF: string, TimeEDT: string, VisibilityMPH: string, WindDirDegrees: string, Wind_Direction: string, Wind_SpeedMPH: string, Windy: string]"
      ]
     },
     "execution_count": 9,
     "metadata": {},
     "output_type": "execute_result"
    }
   ],
   "source": [
    "df = spark.read.load('joins_in_2015.csv', format='csv', header=True, inferSchema=False)\n",
    "df.cache()"
   ]
  },
  {
   "cell_type": "code",
   "execution_count": 10,
   "metadata": {
    "collapsed": false
   },
   "outputs": [
    {
     "data": {
      "text/plain": [
       "35408"
      ]
     },
     "execution_count": 10,
     "metadata": {},
     "output_type": "execute_result"
    }
   ],
   "source": [
    "unique_locations = df.select(\"LOCATION\").distinct()\n",
    "unique_locations.count()"
   ]
  },
  {
   "cell_type": "code",
   "execution_count": 11,
   "metadata": {
    "collapsed": false
   },
   "outputs": [
    {
     "data": {
      "text/plain": [
       "217417"
      ]
     },
     "execution_count": 11,
     "metadata": {},
     "output_type": "execute_result"
    }
   ],
   "source": [
    "locations = df.select(\"LOCATION\")\n",
    "locations.count()"
   ]
  },
  {
   "cell_type": "code",
   "execution_count": 13,
   "metadata": {
    "collapsed": false
   },
   "outputs": [
    {
     "data": {
      "text/plain": [
       "35408"
      ]
     },
     "execution_count": 13,
     "metadata": {},
     "output_type": "execute_result"
    }
   ],
   "source": [
    "locations.groupBy(\"LOCATION\").count().orderBy('count', ascending=False).count()"
   ]
  },
  {
   "cell_type": "code",
   "execution_count": 14,
   "metadata": {
    "collapsed": false
   },
   "outputs": [
    {
     "name": "stdout",
     "output_type": "stream",
     "text": [
      "+--------------------+-----+\n",
      "|            LOCATION|count|\n",
      "+--------------------+-----+\n",
      "|                null|34672|\n",
      "|(40.8100528, -73....|  219|\n",
      "|(40.6528929, -73....|  136|\n",
      "|(40.6960346, -73....|  135|\n",
      "|(40.7606005, -73....|  132|\n",
      "|(40.7460781, -73....|  116|\n",
      "|(40.7595273, -73....|  112|\n",
      "|(40.6757357, -73....|  111|\n",
      "|(40.7572323, -73....|  108|\n",
      "|(40.7203211, -73....|  105|\n",
      "|(40.7602226, -73....|  103|\n",
      "|(40.6585778, -73....|   96|\n",
      "|(40.7584292, -73....|   95|\n",
      "|(40.8571285, -73....|   92|\n",
      "|(40.8618642, -73....|   90|\n",
      "|(40.6781627, -73....|   90|\n",
      "|(40.7832478, -73....|   90|\n",
      "|(40.8027515, -73....|   88|\n",
      "|(40.759308, -73.9...|   88|\n",
      "|(40.6631828, -73....|   87|\n",
      "+--------------------+-----+\n",
      "only showing top 20 rows\n",
      "\n"
     ]
    }
   ],
   "source": [
    "df.select(\"LOCATION\").groupBy(\"LOCATION\").count().orderBy('count', ascending=False).show()"
   ]
  },
  {
   "cell_type": "code",
   "execution_count": 79,
   "metadata": {
    "collapsed": false
   },
   "outputs": [],
   "source": [
    "from pyspark.sql.functions import col"
   ]
  },
  {
   "cell_type": "code",
   "execution_count": null,
   "metadata": {
    "collapsed": false
   },
   "outputs": [],
   "source": [
    "overall_df = df.filter(col('LATITUDE').isNotNull() & ~col('LATITUDE').like('0'))\\\n",
    "        .select(\"LOCATION\", 'LATITUDE', 'LONGITUDE').groupBy(\"LOCATION\", 'LATITUDE', 'LONGITUDE').count().orderBy('count', ascending=False)\n",
    "overall_df.count()"
   ]
  },
  {
   "cell_type": "code",
   "execution_count": 48,
   "metadata": {
    "collapsed": false
   },
   "outputs": [
    {
     "data": {
      "text/plain": [
       "7053"
      ]
     },
     "execution_count": 48,
     "metadata": {},
     "output_type": "execute_result"
    }
   ],
   "source": [
    "rain_df = df.filter(col('Rain').like(\"1\") & col('LATITUDE').isNotNull() & ~col('LATITUDE').like('0'))\\\n",
    "        .select(\"LOCATION\", 'LATITUDE', 'LONGITUDE').groupBy(\"LOCATION\", 'LATITUDE', 'LONGITUDE').count().orderBy('count', ascending=False)\n",
    "rain_df.count()"
   ]
  },
  {
   "cell_type": "code",
   "execution_count": 49,
   "metadata": {
    "collapsed": false
   },
   "outputs": [
    {
     "data": {
      "text/plain": [
       "3347"
      ]
     },
     "execution_count": 49,
     "metadata": {},
     "output_type": "execute_result"
    }
   ],
   "source": [
    "snow_df = df.filter(col('Snow').like(\"1\") & col('LATITUDE').isNotNull() & ~col('LATITUDE').like('0'))\\\n",
    "        .select(\"LOCATION\", 'LATITUDE', 'LONGITUDE').groupBy(\"LOCATION\", 'LATITUDE', 'LONGITUDE').count().orderBy('count', ascending=False)\n",
    "snow_df.count()"
   ]
  },
  {
   "cell_type": "code",
   "execution_count": 50,
   "metadata": {
    "collapsed": false
   },
   "outputs": [
    {
     "data": {
      "text/plain": [
       "1105"
      ]
     },
     "execution_count": 50,
     "metadata": {},
     "output_type": "execute_result"
    }
   ],
   "source": [
    "windy_df = df.filter(col('Windy').like(\"1\") & col('LATITUDE').isNotNull() & ~col('LATITUDE').like('0'))\\\n",
    "        .select(\"LOCATION\", 'LATITUDE', 'LONGITUDE').groupBy(\"LOCATION\", 'LATITUDE', 'LONGITUDE').count().orderBy('count', ascending=False)\n",
    "windy_df.count()"
   ]
  },
  {
   "cell_type": "code",
   "execution_count": 51,
   "metadata": {
    "collapsed": false
   },
   "outputs": [
    {
     "data": {
      "text/plain": [
       "16576"
      ]
     },
     "execution_count": 51,
     "metadata": {},
     "output_type": "execute_result"
    }
   ],
   "source": [
    "inclement_df = df.filter((col('Rain').like(\"1\") | col('Snow').like(\"1\") | col('Windy').like(\"1\") | \\\n",
    "           col('LowVisibility').like(\"1\") | col('Freezing').like(\"1\")) & \\\n",
    "           col('LATITUDE').isNotNull() & ~col('LATITUDE').like('0')) \\\n",
    "        .select(\"LOCATION\", 'LATITUDE', 'LONGITUDE').groupBy(\"LOCATION\", 'LATITUDE', 'LONGITUDE').count().orderBy('count', ascending=False)\n",
    "inclement_df.count()"
   ]
  },
  {
   "cell_type": "code",
   "execution_count": 53,
   "metadata": {
    "collapsed": false
   },
   "outputs": [],
   "source": [
    "overall_df.coalesce(1).write.csv(\"2015_coords_for_carto/2015_overall_coords\", header=True)\n",
    "rain_df.coalesce(1).write.csv(\"2015_coords_for_carto/2015_rain_coords\", header=True)\n",
    "snow_df.coalesce(1).write.csv(\"2015_coords_for_carto/2015_snow_coords\", header=True)\n",
    "windy_df.coalesce(1).write.csv(\"2015_coords_for_carto/2015_windy_coords\", header=True)\n",
    "inclement_df.coalesce(1).write.csv(\"2015_coords_for_carto/2015_inclement_coords\", header=True)\n",
    "freezing_df.coalesce(1).write.csv(\"2015_coords_for_carto/2015_freezing_coords\", header=True)"
   ]
  },
  {
   "cell_type": "code",
   "execution_count": 58,
   "metadata": {
    "collapsed": false
   },
   "outputs": [
    {
     "data": {
      "text/plain": [
       "6024"
      ]
     },
     "execution_count": 58,
     "metadata": {},
     "output_type": "execute_result"
    }
   ],
   "source": [
    "low_visibility_df = df.filter(col('LowVisibility').like(\"1\") & col('LATITUDE').isNotNull() & ~col('LATITUDE').like('0'))\\\n",
    "        .select(\"LOCATION\", 'LATITUDE', 'LONGITUDE').groupBy(\"LOCATION\", 'LATITUDE', 'LONGITUDE').count().orderBy('count', ascending=False)\n",
    "low_visibility_df.count()"
   ]
  },
  {
   "cell_type": "code",
   "execution_count": 57,
   "metadata": {
    "collapsed": false
   },
   "outputs": [],
   "source": [
    "low_visibility_df.coalesce(1).write.csv(\"2015_coords_for_carto/2015_low_visibility_coords\", header=True)"
   ]
  },
  {
   "cell_type": "code",
   "execution_count": 94,
   "metadata": {
    "collapsed": false
   },
   "outputs": [
    {
     "name": "stdout",
     "output_type": "stream",
     "text": [
      "+--------------------+----------+-----------+---------+\n",
      "|            LOCATION|  LATITUDE|  LONGITUDE|sum(Rain)|\n",
      "+--------------------+----------+-----------+---------+\n",
      "|                null|      null|       null|     1815|\n",
      "|(40.8100528, -73....|40.8100528|-73.9251435|       11|\n",
      "|(40.8285193, -73....|40.8285193|-73.8411794|       11|\n",
      "|(40.6685062, -73....|40.6685062|-73.9256052|        9|\n",
      "|(40.759308, -73.9...| 40.759308|-73.9652931|        9|\n",
      "|(40.6694023, -73....|40.6694023|-73.9421971|        9|\n",
      "|(40.7596199, -73....|40.7596199|-73.9619648|        8|\n",
      "|(40.750766, -73.9...| 40.750766|-73.9744433|        7|\n",
      "|(40.6482565, -73....|40.6482565|-73.9713978|        7|\n",
      "|(40.6774132, -73....|40.6774132|-73.9303181|        7|\n",
      "|(40.820189, -73.8...| 40.820189|-73.8906752|        7|\n",
      "|(40.7139131, -73....|40.7139131|-73.8300825|        7|\n",
      "|(40.7197624, -73....|40.7197624|-73.9447576|        7|\n",
      "|(40.7584292, -73....|40.7584292|-73.9926328|        7|\n",
      "|(40.8289603, -73....|40.8289603|-73.8420547|        7|\n",
      "|(40.7199725, -73....|40.7199725|-73.9928968|        7|\n",
      "|(40.7832478, -73....|40.7832478|-73.9447234|        7|\n",
      "|(40.7850321, -73....|40.7850321|-73.9405708|        7|\n",
      "|(40.7460781, -73....|40.7460781|-73.9749359|        7|\n",
      "|(40.7619942, -73....|40.7619942|-73.7584818|        7|\n",
      "+--------------------+----------+-----------+---------+\n",
      "only showing top 20 rows\n",
      "\n"
     ]
    }
   ],
   "source": [
    "rain_test = df.select(\"LOCATION\", 'LATITUDE', 'LONGITUDE', df.Rain.cast(\"integer\").alias(\"Rain\")).groupBy(\"LOCATION\", 'LATITUDE', 'LONGITUDE').sum('Rain').orderBy('sum(Rain)', ascending=False)\n",
    "rain_test.show()"
   ]
  },
  {
   "cell_type": "code",
   "execution_count": 77,
   "metadata": {
    "collapsed": false
   },
   "outputs": [
    {
     "data": {
      "text/plain": [
       "35408"
      ]
     },
     "execution_count": 77,
     "metadata": {},
     "output_type": "execute_result"
    }
   ],
   "source": [
    "rain_test.count()"
   ]
  },
  {
   "cell_type": "code",
   "execution_count": 89,
   "metadata": {
    "collapsed": true
   },
   "outputs": [],
   "source": [
    "df.registerTempTable('temp')"
   ]
  },
  {
   "cell_type": "code",
   "execution_count": 101,
   "metadata": {
    "collapsed": false
   },
   "outputs": [
    {
     "data": {
      "text/plain": [
       "90"
      ]
     },
     "execution_count": 101,
     "metadata": {},
     "output_type": "execute_result"
    }
   ],
   "source": [
    "test = sqlContext.sql('select * from temp where LATITUDE = 40.7832478 and LONGITUDE = -73.9447234')\n",
    "test.count()"
   ]
  },
  {
   "cell_type": "code",
   "execution_count": 102,
   "metadata": {
    "collapsed": false
   },
   "outputs": [
    {
     "data": {
      "text/plain": [
       "7"
      ]
     },
     "execution_count": 102,
     "metadata": {},
     "output_type": "execute_result"
    }
   ],
   "source": [
    "test = sqlContext.sql('select * from temp where LATITUDE = 40.7832478 and LONGITUDE = -73.9447234 and rain = 1')\n",
    "test.count()"
   ]
  },
  {
   "cell_type": "code",
   "execution_count": 135,
   "metadata": {
    "collapsed": false
   },
   "outputs": [
    {
     "name": "stdout",
     "output_type": "stream",
     "text": [
      "+--------------------+----------+-----------+-----+---------+\n",
      "|            LOCATION|  LATITUDE|  LONGITUDE|count|sum(Rain)|\n",
      "+--------------------+----------+-----------+-----+---------+\n",
      "|(40.8100528, -73....|40.8100528|-73.9251435|  219|       11|\n",
      "|(40.6528929, -73....|40.6528929|-73.8667311|  136|        4|\n",
      "|(40.6960346, -73....|40.6960346|-73.9845292|  135|        6|\n",
      "|(40.7606005, -73....|40.7606005|-73.9643142|  132|        4|\n",
      "|(40.7460781, -73....|40.7460781|-73.9749359|  116|        7|\n",
      "|(40.7595273, -73....|40.7595273| -73.999242|  112|        6|\n",
      "|(40.6757357, -73....|40.6757357|-73.8968533|  111|        3|\n",
      "|(40.7572323, -73....|40.7572323|-73.9897922|  108|        1|\n",
      "|(40.7203211, -73....|40.7203211|-73.9940403|  105|        6|\n",
      "|(40.7602226, -73....|40.7602226| -73.967462|  103|        4|\n",
      "|(40.6585778, -73....|40.6585778|-73.8906229|   96|        3|\n",
      "|(40.7584292, -73....|40.7584292|-73.9926328|   95|        7|\n",
      "|(40.8571285, -73....|40.8571285|-73.8807926|   92|        2|\n",
      "|(40.7832478, -73....|40.7832478|-73.9447234|   90|        7|\n",
      "|(40.6781627, -73....|40.6781627|-73.8974769|   90|        3|\n",
      "|(40.8618642, -73....|40.8618642|-73.9127392|   90|        3|\n",
      "|(40.759308, -73.9...| 40.759308|-73.9652931|   88|        9|\n",
      "|(40.8027515, -73....|40.8027515| -73.933575|   88|        3|\n",
      "|(40.7241363, -73....|40.7241363|-73.9926041|   87|        4|\n",
      "|(40.6631828, -73....|40.6631828|-73.9624487|   87|        2|\n",
      "+--------------------+----------+-----------+-----+---------+\n",
      "only showing top 20 rows\n",
      "\n"
     ]
    }
   ],
   "source": [
    "join_test = overall_df.join(rain_test.select(\"LOCATION\",\"sum(Rain)\"), \"LOCATION\")\n",
    "join_test.show()"
   ]
  },
  {
   "cell_type": "code",
   "execution_count": 154,
   "metadata": {
    "collapsed": false
   },
   "outputs": [
    {
     "name": "stdout",
     "output_type": "stream",
     "text": [
      "+--------------------+----------+-----------+-----+---------+-----+\n",
      "|            LOCATION|  LATITUDE|  LONGITUDE|count|sum(Rain)|rain%|\n",
      "+--------------------+----------+-----------+-----+---------+-----+\n",
      "|(40.7710869, -73....|40.7710869| -73.804419|    3|        3|100.0|\n",
      "|(40.7076317, -73....|40.7076317| -73.915841|    3|        3|100.0|\n",
      "|(40.7318009, -73....|40.7318009|-73.7170754|    2|        2|100.0|\n",
      "|(40.7365763, -73....|40.7365763|-73.9077101|    2|        2|100.0|\n",
      "|(40.6993586, -73....|40.6993586|-73.8423382|    2|        2|100.0|\n",
      "|(40.5880534, -74....|40.5880534| -74.093535|    2|        2|100.0|\n",
      "|(40.7658552, -73....|40.7658552|-73.9145003|    2|        2|100.0|\n",
      "|(40.682097, -73.8...| 40.682097| -73.801709|    2|        2|100.0|\n",
      "|(40.7200577, -74....|40.7200577|-74.0056566|    2|        2|100.0|\n",
      "|(40.7660747, -73....|40.7660747|-73.7284567|    2|        2|100.0|\n",
      "|(40.762987, -73.7...| 40.762987|-73.7285343|    2|        2|100.0|\n",
      "|(40.8961082, -73....|40.8961082| -73.847742|    2|        2|100.0|\n",
      "|(40.8610017, -73....|40.8610017|-73.8484045|    2|        2|100.0|\n",
      "|(40.7298565, -74....|40.7298565|-74.0039544|    2|        2|100.0|\n",
      "|(40.767701, -73.7...| 40.767701|-73.7792302|    2|        2|100.0|\n",
      "|(40.8566278, -73....|40.8566278|-73.9393519|    2|        2|100.0|\n",
      "|(40.8362216, -73....|40.8362216|-73.8563138|    2|        2|100.0|\n",
      "|(40.77396, -73.91...|  40.77396| -73.917761|    2|        2|100.0|\n",
      "|(40.7381238, -73....|40.7381238|-73.7046388|    2|        2|100.0|\n",
      "|(40.903558, -73.8...| 40.903558|-73.8441798|    2|        2|100.0|\n",
      "+--------------------+----------+-----------+-----+---------+-----+\n",
      "only showing top 20 rows\n",
      "\n"
     ]
    }
   ],
   "source": [
    "rain_percents = join_test.select(\"*\", ((join_test['sum(Rain)']/join_test['count'])*100).alias(\"rain%\")).orderBy(['rain%','count'], ascending=False)\n",
    "rain_percents.show()"
   ]
  },
  {
   "cell_type": "code",
   "execution_count": 141,
   "metadata": {
    "collapsed": true
   },
   "outputs": [],
   "source": [
    "rain_percents.registerTempTable('rain_temp')"
   ]
  },
  {
   "cell_type": "code",
   "execution_count": 151,
   "metadata": {
    "collapsed": false
   },
   "outputs": [
    {
     "data": {
      "text/plain": [
       "42"
      ]
     },
     "execution_count": 151,
     "metadata": {},
     "output_type": "execute_result"
    }
   ],
   "source": [
    "test_percent = rain_percents.filter(col('rain%') > 50).filter(col('rain%') < 100)\n",
    "test_percent.count()"
   ]
  },
  {
   "cell_type": "code",
   "execution_count": 155,
   "metadata": {
    "collapsed": false
   },
   "outputs": [
    {
     "name": "stdout",
     "output_type": "stream",
     "text": [
      "+--------------------+----------+-----------+-----+---------+------------------+\n",
      "|            LOCATION|  LATITUDE|  LONGITUDE|count|sum(Rain)|             rain%|\n",
      "+--------------------+----------+-----------+-----+---------+------------------+\n",
      "|(40.8229468, -73....|40.8229468|-73.8867266|    4|        3|              75.0|\n",
      "|(40.6949675, -73....|40.6949675|-73.8083422|    4|        3|              75.0|\n",
      "|(40.8409524, -73....|40.8409524| -73.879376|    4|        3|              75.0|\n",
      "|(40.8289994, -73....|40.8289994|-73.8364102|    7|        5| 71.42857142857143|\n",
      "|(40.7629027, -73....|40.7629027|-73.7691746|    3|        2| 66.66666666666666|\n",
      "|(40.6808922, -73....|40.6808922|-73.8713658|    3|        2| 66.66666666666666|\n",
      "|(40.7656519, -73....|40.7656519| -73.903572|    3|        2| 66.66666666666666|\n",
      "|(40.6972977, -73....|40.6972977|-73.9237771|    3|        2| 66.66666666666666|\n",
      "|(40.740402, -73.8...| 40.740402|-73.8821274|    3|        2| 66.66666666666666|\n",
      "|(40.7046363, -73....|40.7046363|-73.9410304|    3|        2| 66.66666666666666|\n",
      "|(40.7711354, -73....|40.7711354|-73.7625465|    3|        2| 66.66666666666666|\n",
      "|(40.8122228, -73....|40.8122228|-73.8992439|    3|        2| 66.66666666666666|\n",
      "|(40.6979059, -73....|40.6979059|-73.7270894|    3|        2| 66.66666666666666|\n",
      "|(40.7784594, -73....|40.7784594|-73.9045042|    3|        2| 66.66666666666666|\n",
      "|(40.6622496, -73....|40.6622496|-73.8426169|    3|        2| 66.66666666666666|\n",
      "|(40.8627028, -73....|40.8627028|-73.8398794|    3|        2| 66.66666666666666|\n",
      "|(40.7069425, -74....|40.7069425|-74.0135184|    3|        2| 66.66666666666666|\n",
      "|(40.8952438, -73....|40.8952438|-73.8613922|    3|        2| 66.66666666666666|\n",
      "|(40.6677411, -73....|40.6677411|-73.7569955|    3|        2| 66.66666666666666|\n",
      "|(40.6194099, -74....|40.6194099|-74.0902254|    3|        2| 66.66666666666666|\n",
      "|(40.8949212, -73....|40.8949212|-73.8531341|    3|        2| 66.66666666666666|\n",
      "|(40.8911362, -73....|40.8911362|-73.8552656|    3|        2| 66.66666666666666|\n",
      "|(40.6738169, -73....|40.6738169|-73.8648471|    3|        2| 66.66666666666666|\n",
      "|(40.8498472, -73....|40.8498472|-73.9016763|    3|        2| 66.66666666666666|\n",
      "|(40.7619097, -73....|40.7619097|-73.7750512|    3|        2| 66.66666666666666|\n",
      "|(40.7011329, -73....|40.7011329|-73.8171569|    3|        2| 66.66666666666666|\n",
      "|(40.6997668, -73....|40.6997668|-73.7828452|    3|        2| 66.66666666666666|\n",
      "|(40.8847784, -73....|40.8847784|-73.8587621|    3|        2| 66.66666666666666|\n",
      "|(40.806085, -73.8...| 40.806085|-73.8545258|    3|        2| 66.66666666666666|\n",
      "|(40.6175171, -74....|40.6175171|-74.0686576|    3|        2| 66.66666666666666|\n",
      "|(40.6211779, -73....|40.6211779|-73.9300454|    3|        2| 66.66666666666666|\n",
      "|(40.595111, -73.7...| 40.595111|-73.7934695|    3|        2| 66.66666666666666|\n",
      "|(40.592207, -73.9...| 40.592207|-73.9354983|    3|        2| 66.66666666666666|\n",
      "|(40.6669254, -73....|40.6669254|-73.7844606|    3|        2| 66.66666666666666|\n",
      "|(40.8138335, -73....|40.8138335|-73.9078673|    3|        2| 66.66666666666666|\n",
      "|(40.742122, -73.9...| 40.742122|-73.9274428|    3|        2| 66.66666666666666|\n",
      "|(40.8058094, -73....|40.8058094|-73.9707438|    3|        2| 66.66666666666666|\n",
      "|(40.8280071, -73....|40.8280071|-73.8417908|    8|        5|              62.5|\n",
      "|(40.647326, -74.0...| 40.647326|-74.0806811|    5|        3|              60.0|\n",
      "|(40.6318985, -74....|40.6318985| -74.097156|    5|        3|              60.0|\n",
      "|(40.8289603, -73....|40.8289603|-73.8420547|   12|        7|58.333333333333336|\n",
      "|(40.6529158, -73....|40.6529158|-73.9449683|    7|        4| 57.14285714285714|\n",
      "+--------------------+----------+-----------+-----+---------+------------------+\n",
      "\n"
     ]
    }
   ],
   "source": [
    "test_percent.show(42)"
   ]
  },
  {
   "cell_type": "code",
   "execution_count": null,
   "metadata": {
    "collapsed": true
   },
   "outputs": [],
   "source": []
  }
 ],
 "metadata": {
  "kernelspec": {
   "display_name": "Python 2",
   "language": "python",
   "name": "python2"
  },
  "language_info": {
   "codemirror_mode": {
    "name": "ipython",
    "version": 2
   },
   "file_extension": ".py",
   "mimetype": "text/x-python",
   "name": "python",
   "nbconvert_exporter": "python",
   "pygments_lexer": "ipython2",
   "version": "2.7.12"
  }
 },
 "nbformat": 4,
 "nbformat_minor": 2
}
