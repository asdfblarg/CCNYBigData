{
 "cells": [
  {
   "cell_type": "code",
   "execution_count": 1,
   "metadata": {
    "collapsed": false,
    "deletable": true,
    "editable": true
   },
   "outputs": [
    {
     "data": {
      "text/plain": [
       "<pyspark.context.SparkContext at 0x7f7c3f42d450>"
      ]
     },
     "execution_count": 1,
     "metadata": {},
     "output_type": "execute_result"
    }
   ],
   "source": [
    "sc"
   ]
  },
  {
   "cell_type": "code",
   "execution_count": 2,
   "metadata": {
    "collapsed": true,
    "deletable": true,
    "editable": true
   },
   "outputs": [],
   "source": [
    "# df = spark.read.load(\"NYPD_Motor_Vehicle_Collisions.csv\", format='csv', header=True, inferSchema=False)\n",
    "rows = sc.textFile('NYPD_Motor_Vehicle_Collisions.csv')"
   ]
  },
  {
   "cell_type": "code",
   "execution_count": null,
   "metadata": {
    "collapsed": false,
    "deletable": true,
    "editable": true
   },
   "outputs": [],
   "source": [
    "# variable = df.rdd"
   ]
  },
  {
   "cell_type": "code",
   "execution_count": null,
   "metadata": {
    "collapsed": false,
    "deletable": true,
    "editable": true
   },
   "outputs": [],
   "source": [
    "# df.dtypes"
   ]
  },
  {
   "cell_type": "code",
   "execution_count": 7,
   "metadata": {
    "collapsed": false,
    "deletable": true,
    "editable": true
   },
   "outputs": [],
   "source": [
    "import csv\n",
    "\n",
    "from pyspark.sql import Row\n",
    "\n",
    "def fn(idx, part):\n",
    "    if idx == 0:\n",
    "        part.next()\n",
    "    for r in csv.reader(part):\n",
    "        datetime = r[0] + \" \" + r[1] + \":00\"\n",
    "        \n",
    "        yield Row(  \n",
    "            DATETIME = datetime,\n",
    "            BOROUGH = r[2],\n",
    "            ZIP_CODE = r[3],\n",
    "            LATITUDE = r[4],\n",
    "            LONGITUDE = r[5],\n",
    "            LOCATION = r[6],\n",
    "            ON_STREET_NAME = r[7],\n",
    "            CROSS_STREET_NAME = r[8],\n",
    "            OFF_STREET_NAME = r[9],\n",
    "            NUMBER_OF_PERSONS_INJURED = r[10],\n",
    "            NUMBER_OF_PERSONS_KILLED = r[11],\n",
    "            NUMBER_OF_PEDESTRIANS_INJURED = r[12],\n",
    "            NUMBER_OF_PEDESTRIANS_KILLED = r[13],\n",
    "            NUMBER_OF_CYCLIST_INJURED = r[14],\n",
    "            NUMBER_OF_CYCLIST_KILLED = r[15],\n",
    "            NUMBER_OF_MOTORIST_INJURED = r[16],\n",
    "            NUMBER_OF_MOTORIST_KILLED = r[17],\n",
    "            CONTRIBUTING_FACTOR_VEHICLE_1 = r[18],\n",
    "            CONTRIBUTING_FACTOR_VEHICLE_2 = r[19],\n",
    "            CONTRIBUTING_FACTOR_VEHICLE_3 = r[20],\n",
    "            CONTRIBUTING_FACTOR_VEHICLE_4 = r[21],\n",
    "            CONTRIBUTING_FACTOR_VEHICLE_5 = r[22],\n",
    "            UNIQUE_KEY = r[23],\n",
    "            VEHICLE_TYPE_CODE_1 = r[24],\n",
    "            VEHICLE_TYPE_CODE_2 = r[25],\n",
    "            VEHICLE_TYPE_CODE_3 = r[26],\n",
    "            VEHICLE_TYPE_CODE_4 = r[27],\n",
    "            VEHICLE_TYPE_CODE_5 = r[28]\n",
    "            )\n",
    "\n",
    "newrdd = rows.mapPartitionsWithIndex(fn)\n",
    "\n",
    "\n",
    "rddDataFrame = sqlContext.createDataFrame(newrdd)\n",
    "rddDataFrame.coalesce(1).write.csv('coalesce_nypd_carl.csv', header=True)"
   ]
  },
  {
   "cell_type": "code",
   "execution_count": null,
   "metadata": {
    "collapsed": false,
    "deletable": true,
    "editable": true
   },
   "outputs": [],
   "source": [
    "rddDataFrame.select('DATETIME').show(200)\n",
    "# newrdd.collect()"
   ]
  },
  {
   "cell_type": "code",
   "execution_count": null,
   "metadata": {
    "collapsed": true,
    "deletable": true,
    "editable": true
   },
   "outputs": [],
   "source": []
  }
 ],
 "metadata": {
  "kernelspec": {
   "display_name": "Python 2",
   "language": "python",
   "name": "python2"
  },
  "language_info": {
   "codemirror_mode": {
    "name": "ipython",
    "version": 2
   },
   "file_extension": ".py",
   "mimetype": "text/x-python",
   "name": "python",
   "nbconvert_exporter": "python",
   "pygments_lexer": "ipython2",
   "version": "2.7.12"
  }
 },
 "nbformat": 4,
 "nbformat_minor": 2
}
