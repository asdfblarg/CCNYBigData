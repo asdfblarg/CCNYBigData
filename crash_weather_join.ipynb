{
 "cells": [
  {
   "cell_type": "code",
   "execution_count": 1,
   "metadata": {
    "collapsed": false
   },
   "outputs": [
    {
     "data": {
      "text/plain": [
       "<pyspark.context.SparkContext at 0x7ff2b4223450>"
      ]
     },
     "execution_count": 1,
     "metadata": {},
     "output_type": "execute_result"
    }
   ],
   "source": [
    "sc"
   ]
  },
  {
   "cell_type": "code",
   "execution_count": 2,
   "metadata": {
    "collapsed": true
   },
   "outputs": [],
   "source": [
    "import csv\n",
    "\n",
    "nypd_collisions = sc.textFile('nypd_carl2_part0.csv')\n",
    "weather_data = sc.textFile('processed_2011-2017_final.csv')"
   ]
  },
  {
   "cell_type": "code",
   "execution_count": 3,
   "metadata": {
    "collapsed": false
   },
   "outputs": [
    {
     "data": {
      "text/plain": [
       "[(0, u'BOROUGH'),\n",
       " (1, u'CONTRIBUTING_FACTOR_VEHICLE_1'),\n",
       " (2, u'CONTRIBUTING_FACTOR_VEHICLE_2'),\n",
       " (3, u'CONTRIBUTING_FACTOR_VEHICLE_3'),\n",
       " (4, u'CONTRIBUTING_FACTOR_VEHICLE_4'),\n",
       " (5, u'CONTRIBUTING_FACTOR_VEHICLE_5'),\n",
       " (6, u'CROSS_STREET_NAME'),\n",
       " (7, u'DATETIME'),\n",
       " (8, u'LATITUDE'),\n",
       " (9, u'LOCATION'),\n",
       " (10, u'LONGITUDE'),\n",
       " (11, u'NUMBER_OF_CYCLIST_INJURED'),\n",
       " (12, u'NUMBER_OF_CYCLIST_KILLED'),\n",
       " (13, u'NUMBER_OF_MOTORIST_INJURED'),\n",
       " (14, u'NUMBER_OF_MOTORIST_KILLED'),\n",
       " (15, u'NUMBER_OF_PEDESTRIANS_INJURED'),\n",
       " (16, u'NUMBER_OF_PEDESTRIANS_KILLED'),\n",
       " (17, u'NUMBER_OF_PERSONS_INJURED'),\n",
       " (18, u'NUMBER_OF_PERSONS_KILLED'),\n",
       " (19, u'OFF_STREET_NAME'),\n",
       " (20, u'ON_STREET_NAME'),\n",
       " (21, u'UNIQUE_KEY'),\n",
       " (22, u'VEHICLE_TYPE_CODE_1'),\n",
       " (23, u'VEHICLE_TYPE_CODE_2'),\n",
       " (24, u'VEHICLE_TYPE_CODE_3'),\n",
       " (25, u'VEHICLE_TYPE_CODE_4'),\n",
       " (26, u'VEHICLE_TYPE_CODE_5'),\n",
       " (27, u'ZIP_CODE')]"
      ]
     },
     "execution_count": 3,
     "metadata": {},
     "output_type": "execute_result"
    }
   ],
   "source": [
    "list(enumerate(nypd_collisions.first().split(',')))"
   ]
  },
  {
   "cell_type": "code",
   "execution_count": 4,
   "metadata": {
    "collapsed": false
   },
   "outputs": [
    {
     "data": {
      "text/plain": [
       "[(0, u''),\n",
       " (1, u'Conditions'),\n",
       " (2, u'DateUTC'),\n",
       " (3, u'DatetimeEDT'),\n",
       " (4, u'Dew_PointF'),\n",
       " (5, u'Events'),\n",
       " (6, u'Foggy'),\n",
       " (7, u'Freezing'),\n",
       " (8, u'Gust_SpeedMPH'),\n",
       " (9, u'Humidity'),\n",
       " (10, u'PrecipitationIn'),\n",
       " (11, u'Rain'),\n",
       " (12, u'Sea_Level_PressureIn'),\n",
       " (13, u'Snow'),\n",
       " (14, u'TemperatureF'),\n",
       " (15, u'TimeEDT'),\n",
       " (16, u'VisibilityMPH'),\n",
       " (17, u'WindDirDegrees'),\n",
       " (18, u'Wind_Direction'),\n",
       " (19, u'Wind_SpeedMPH'),\n",
       " (20, u'Windy')]"
      ]
     },
     "execution_count": 4,
     "metadata": {},
     "output_type": "execute_result"
    }
   ],
   "source": [
    "list(enumerate(weather_data.first().split(',')))"
   ]
  },
  {
   "cell_type": "code",
   "execution_count": 36,
   "metadata": {
    "collapsed": false
   },
   "outputs": [],
   "source": [
    "import csv\n",
    "import datetime\n",
    "def map_weather_hours(idx, part):\n",
    "    if idx == 0:\n",
    "        part.next()\n",
    "    for p in csv.reader(part):\n",
    "        datehour= p[3].split(':')[0]\n",
    "        yield (datehour, p)\n",
    "\n",
    "weather_data_rdd = weather_data.mapPartitionsWithIndex(map_weather_hours)\n",
    "# sorted(weather_data_rdd.groupByKey().mapValues(list).collect())\n",
    "weather_data_rdd = weather_data_rdd.groupByKey().mapValues(list)"
   ]
  },
  {
   "cell_type": "code",
   "execution_count": 35,
   "metadata": {
    "collapsed": false
   },
   "outputs": [
    {
     "data": {
      "text/plain": [
       "[('2017-04-16 00',\n",
       "  ['BRONX',\n",
       "   'Turning Improperly',\n",
       "   'Unspecified',\n",
       "   '',\n",
       "   '',\n",
       "   '',\n",
       "   'BRONX RIVER AVENUE',\n",
       "   '04/16/2017 0:00:00',\n",
       "   '40.831287',\n",
       "   '(40.831287, -73.88173)',\n",
       "   '-73.88173',\n",
       "   '0',\n",
       "   '0',\n",
       "   '0',\n",
       "   '0',\n",
       "   '0',\n",
       "   '0',\n",
       "   '0',\n",
       "   '0',\n",
       "   '',\n",
       "   'EAST 172 STREET',\n",
       "   '3651861',\n",
       "   'PASSENGER VEHICLE',\n",
       "   'PICK-UP TRUCK',\n",
       "   '',\n",
       "   '',\n",
       "   '',\n",
       "   '10472']),\n",
       " ('2017-04-16 00',\n",
       "  ['BROOKLYN',\n",
       "   'Turning Improperly',\n",
       "   'Unspecified',\n",
       "   '',\n",
       "   '',\n",
       "   '',\n",
       "   'SMITH STREET',\n",
       "   '04/16/2017 0:00:00',\n",
       "   '40.686726',\n",
       "   '(40.686726, -73.99047)',\n",
       "   '-73.99047',\n",
       "   '0',\n",
       "   '0',\n",
       "   '0',\n",
       "   '0',\n",
       "   '0',\n",
       "   '0',\n",
       "   '0',\n",
       "   '0',\n",
       "   '',\n",
       "   'BERGEN STREET',\n",
       "   '3651519',\n",
       "   'TAXI',\n",
       "   'PASSENGER VEHICLE',\n",
       "   '',\n",
       "   '',\n",
       "   '',\n",
       "   '11201']),\n",
       " ('2017-04-16 00',\n",
       "  ['BROOKLYN',\n",
       "   'Unspecified',\n",
       "   'Unspecified',\n",
       "   '',\n",
       "   '',\n",
       "   '',\n",
       "   '',\n",
       "   '04/16/2017 0:00:00',\n",
       "   '40.70256',\n",
       "   '(40.70256, -73.99114)',\n",
       "   '-73.99114',\n",
       "   '0',\n",
       "   '0',\n",
       "   '0',\n",
       "   '0',\n",
       "   '0',\n",
       "   '0',\n",
       "   '0',\n",
       "   '0',\n",
       "   '57        FRONT STREET',\n",
       "   '',\n",
       "   '3651522',\n",
       "   'SPORT UTILITY / STATION WAGON',\n",
       "   'SPORT UTILITY / STATION WAGON',\n",
       "   '',\n",
       "   '',\n",
       "   '',\n",
       "   '11201']),\n",
       " ('2017-04-16 00',\n",
       "  ['QUEENS',\n",
       "   'Failure to Yield Right-of-Way',\n",
       "   'Passing or Lane Usage Improper',\n",
       "   '',\n",
       "   '',\n",
       "   '',\n",
       "   '',\n",
       "   '04/16/2017 0:00:00',\n",
       "   '40.71259',\n",
       "   '(40.71259, -73.733154)',\n",
       "   '-73.733154',\n",
       "   '0',\n",
       "   '0',\n",
       "   '0',\n",
       "   '0',\n",
       "   '0',\n",
       "   '0',\n",
       "   '0',\n",
       "   '0',\n",
       "   '220-20    HEMPSTEAD AVENUE',\n",
       "   '',\n",
       "   '3651540',\n",
       "   'PASSENGER VEHICLE',\n",
       "   'SPORT UTILITY / STATION WAGON',\n",
       "   '',\n",
       "   '',\n",
       "   '',\n",
       "   '11429']),\n",
       " ('2017-04-16 00',\n",
       "  ['',\n",
       "   'Driver Inattention/Distraction',\n",
       "   'Unspecified',\n",
       "   '',\n",
       "   '',\n",
       "   '',\n",
       "   '',\n",
       "   '04/16/2017 0:00:00',\n",
       "   '40.70144',\n",
       "   '(40.70144, -73.98477)',\n",
       "   '-73.98477',\n",
       "   '0',\n",
       "   '0',\n",
       "   '0',\n",
       "   '0',\n",
       "   '0',\n",
       "   '0',\n",
       "   '0',\n",
       "   '0',\n",
       "   '',\n",
       "   'BRIDGE STREET',\n",
       "   '3651521',\n",
       "   'PASSENGER VEHICLE',\n",
       "   'SPORT UTILITY / STATION WAGON',\n",
       "   '',\n",
       "   '',\n",
       "   '',\n",
       "   ''])]"
      ]
     },
     "execution_count": 35,
     "metadata": {},
     "output_type": "execute_result"
    }
   ],
   "source": [
    "import csv\n",
    "from dateutil.parser import parse\n",
    "\n",
    "def map_collision_hours(idx, part):\n",
    "    if idx == 0:\n",
    "        part.next()\n",
    "    for p in csv.reader(part):\n",
    "        datehour = str(parse(p[7])).split(':')[0]\n",
    "        yield (datehour, p)\n",
    "\n",
    "nypd_collisions_rdd = nypd_collisions.mapPartitionsWithIndex(map_collision_hours)\n",
    "nypd_collisions_rdd.take(5)"
   ]
  },
  {
   "cell_type": "code",
   "execution_count": 40,
   "metadata": {
    "collapsed": false
   },
   "outputs": [],
   "source": [
    "joined_data = nypd_collisions_rdd.join(weather_data_rdd)"
   ]
  },
  {
   "cell_type": "code",
   "execution_count": 42,
   "metadata": {
    "collapsed": false
   },
   "outputs": [],
   "source": [
    "joined_data_collected = joined_data.collect()"
   ]
  },
  {
   "cell_type": "code",
   "execution_count": 43,
   "metadata": {
    "collapsed": false
   },
   "outputs": [
    {
     "data": {
      "text/plain": [
       "('2016-08-14 10',\n",
       " (['BRONX',\n",
       "   'Unspecified',\n",
       "   'Unspecified',\n",
       "   '',\n",
       "   '',\n",
       "   '',\n",
       "   'UNIVERSITY AVENUE',\n",
       "   '08/14/2016 10:08:00',\n",
       "   '',\n",
       "   '',\n",
       "   '',\n",
       "   '0',\n",
       "   '0',\n",
       "   '0',\n",
       "   '0',\n",
       "   '0',\n",
       "   '0',\n",
       "   '0',\n",
       "   '0',\n",
       "   '',\n",
       "   'WEST FORDHAM ROAD',\n",
       "   '3502375',\n",
       "   'PASSENGER VEHICLE',\n",
       "   'PASSENGER VEHICLE',\n",
       "   '',\n",
       "   '',\n",
       "   '',\n",
       "   '10468'],\n",
       "  [['60271',\n",
       "    'Clear',\n",
       "    '2016-08-14 14:51:00',\n",
       "    '2016-08-14 10:51:00',\n",
       "    '72.0',\n",
       "    '',\n",
       "    '1',\n",
       "    '0',\n",
       "    '-',\n",
       "    '57',\n",
       "    'N/A',\n",
       "    '0',\n",
       "    '29.96',\n",
       "    '0',\n",
       "    '89.1',\n",
       "    '10:51 AM',\n",
       "    '9.0',\n",
       "    '300',\n",
       "    'WNW',\n",
       "    '9.2',\n",
       "    '0']]))"
      ]
     },
     "execution_count": 43,
     "metadata": {},
     "output_type": "execute_result"
    }
   ],
   "source": [
    "joined_data_collected[0]"
   ]
  },
  {
   "cell_type": "code",
   "execution_count": 58,
   "metadata": {
    "collapsed": false
   },
   "outputs": [
    {
     "data": {
      "text/plain": [
       "['60271',\n",
       " 'Clear',\n",
       " '2016-08-14 14:51:00',\n",
       " '2016-08-14 10:51:00',\n",
       " '72.0',\n",
       " '',\n",
       " '1',\n",
       " '0',\n",
       " '-',\n",
       " '57',\n",
       " 'N/A',\n",
       " '0',\n",
       " '29.96',\n",
       " '0',\n",
       " '89.1',\n",
       " '10:51 AM',\n",
       " '9.0',\n",
       " '300',\n",
       " 'WNW',\n",
       " '9.2',\n",
       " '0']"
      ]
     },
     "execution_count": 58,
     "metadata": {},
     "output_type": "execute_result"
    }
   ],
   "source": [
    "x = joined_data.take(1)[0]\n",
    "datehour, tupled_lists = x[0], x[1]\n",
    "tuple_weather = tupled_lists[1]\n",
    "tuple_weather[0]\n",
    "x[1][1][0]"
   ]
  },
  {
   "cell_type": "code",
   "execution_count": 89,
   "metadata": {
    "collapsed": false
   },
   "outputs": [],
   "source": [
    "from pyspark.sql import Row\n",
    "final_join=joined_data.map(lambda x: x[1][0] + x[1][1][0])"
   ]
  },
  {
   "cell_type": "code",
   "execution_count": 90,
   "metadata": {
    "collapsed": false
   },
   "outputs": [],
   "source": [
    "final_join_df = sqlContext.createDataFrame(final_join)"
   ]
  },
  {
   "cell_type": "code",
   "execution_count": 94,
   "metadata": {
    "collapsed": false
   },
   "outputs": [],
   "source": [
    "final_join_df.write.csv('joined_weather_collisions')"
   ]
  },
  {
   "cell_type": "code",
   "execution_count": 96,
   "metadata": {
    "collapsed": false
   },
   "outputs": [
    {
     "data": {
      "text/plain": [
       "['_1',\n",
       " '_2',\n",
       " '_3',\n",
       " '_4',\n",
       " '_5',\n",
       " '_6',\n",
       " '_7',\n",
       " '_8',\n",
       " '_9',\n",
       " '_10',\n",
       " '_11',\n",
       " '_12',\n",
       " '_13',\n",
       " '_14',\n",
       " '_15',\n",
       " '_16',\n",
       " '_17',\n",
       " '_18',\n",
       " '_19',\n",
       " '_20',\n",
       " '_21',\n",
       " '_22',\n",
       " '_23',\n",
       " '_24',\n",
       " '_25',\n",
       " '_26',\n",
       " '_27',\n",
       " '_28',\n",
       " '_29',\n",
       " '_30',\n",
       " '_31',\n",
       " '_32',\n",
       " '_33',\n",
       " '_34',\n",
       " '_35',\n",
       " '_36',\n",
       " '_37',\n",
       " '_38',\n",
       " '_39',\n",
       " '_40',\n",
       " '_41',\n",
       " '_42',\n",
       " '_43',\n",
       " '_44',\n",
       " '_45',\n",
       " '_46',\n",
       " '_47',\n",
       " '_48',\n",
       " '_49']"
      ]
     },
     "execution_count": 96,
     "metadata": {},
     "output_type": "execute_result"
    }
   ],
   "source": [
    "final_join_df.columns"
   ]
  },
  {
   "cell_type": "code",
   "execution_count": 98,
   "metadata": {
    "collapsed": false
   },
   "outputs": [
    {
     "ename": "AttributeError",
     "evalue": "'RDD' object has no attribute 'explain'",
     "output_type": "error",
     "traceback": [
      "\u001b[0;31m---------------------------------------------------------------------------\u001b[0m",
      "\u001b[0;31mAttributeError\u001b[0m                            Traceback (most recent call last)",
      "\u001b[0;32m<ipython-input-98-50efc4d13d4d>\u001b[0m in \u001b[0;36m<module>\u001b[0;34m()\u001b[0m\n\u001b[0;32m----> 1\u001b[0;31m \u001b[0mnypd_collisions\u001b[0m\u001b[0;34m.\u001b[0m\u001b[0mexplain\u001b[0m\u001b[0;34m(\u001b[0m\u001b[0;34m)\u001b[0m\u001b[0;34m\u001b[0m\u001b[0m\n\u001b[0m",
      "\u001b[0;31mAttributeError\u001b[0m: 'RDD' object has no attribute 'explain'"
     ]
    }
   ],
   "source": []
  },
  {
   "cell_type": "code",
   "execution_count": null,
   "metadata": {
    "collapsed": true
   },
   "outputs": [],
   "source": []
  }
 ],
 "metadata": {
  "kernelspec": {
   "display_name": "Python 2",
   "language": "python",
   "name": "python2"
  },
  "language_info": {
   "codemirror_mode": {
    "name": "ipython",
    "version": 2
   },
   "file_extension": ".py",
   "mimetype": "text/x-python",
   "name": "python",
   "nbconvert_exporter": "python",
   "pygments_lexer": "ipython2",
   "version": "2.7.12"
  }
 },
 "nbformat": 4,
 "nbformat_minor": 2
}
