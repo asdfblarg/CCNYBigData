{
 "cells": [
  {
   "cell_type": "code",
   "execution_count": 1,
   "metadata": {
    "collapsed": false,
    "deletable": true,
    "editable": true
   },
   "outputs": [
    {
     "data": {
      "text/plain": [
       "<pyspark.context.SparkContext at 0x7f044ac22450>"
      ]
     },
     "execution_count": 1,
     "metadata": {},
     "output_type": "execute_result"
    }
   ],
   "source": [
    "sc"
   ]
  },
  {
   "cell_type": "code",
   "execution_count": 4,
   "metadata": {
    "collapsed": true,
    "deletable": true,
    "editable": true
   },
   "outputs": [],
   "source": [
    "import csv\n",
    "\n",
    "nypd_collisions = sc.textFile('nypd_carl2_part0.csv')\n",
    "weather_data = sc.textFile('processed_2011-2017_fixed.csv')"
   ]
  },
  {
   "cell_type": "code",
   "execution_count": 5,
   "metadata": {
    "collapsed": false,
    "deletable": true,
    "editable": true
   },
   "outputs": [],
   "source": [
    "# list(enumerate(nypd_collisions.first().split(',')))"
   ]
  },
  {
   "cell_type": "code",
   "execution_count": 6,
   "metadata": {
    "collapsed": false,
    "deletable": true,
    "editable": true
   },
   "outputs": [
    {
     "data": {
      "text/plain": [
       "[(0, u''),\n",
       " (1, u'Conditions'),\n",
       " (2, u'DateUTC'),\n",
       " (3, u'DatetimeEDT'),\n",
       " (4, u'Dew_PointF'),\n",
       " (5, u'Events'),\n",
       " (6, u'Freezing'),\n",
       " (7, u'Gust_SpeedMPH'),\n",
       " (8, u'Humidity'),\n",
       " (9, u'LowVisibility'),\n",
       " (10, u'PrecipitationIn'),\n",
       " (11, u'Rain'),\n",
       " (12, u'Sea_Level_PressureIn'),\n",
       " (13, u'Snow'),\n",
       " (14, u'TemperatureF'),\n",
       " (15, u'TimeEDT'),\n",
       " (16, u'VisibilityMPH'),\n",
       " (17, u'WindDirDegrees'),\n",
       " (18, u'Wind_Direction'),\n",
       " (19, u'Wind_SpeedMPH'),\n",
       " (20, u'Windy')]"
      ]
     },
     "execution_count": 6,
     "metadata": {},
     "output_type": "execute_result"
    }
   ],
   "source": [
    "list(enumerate(weather_data.first().split(',')))"
   ]
  },
  {
   "cell_type": "code",
   "execution_count": 9,
   "metadata": {
    "collapsed": false,
    "deletable": true,
    "editable": true
   },
   "outputs": [],
   "source": [
    "import csv\n",
    "import datetime\n",
    "def map_weather_hours(idx, part):\n",
    "    if idx == 0:\n",
    "        part.next()\n",
    "    for p in csv.reader(part):\n",
    "        datehour= p[3].split(':')[0]\n",
    "        yield (datehour, p)\n",
    "\n",
    "weather_data_rdd = weather_data.mapPartitionsWithIndex(map_weather_hours)\n",
    "# sorted(weather_data_rdd.groupByKey().mapValues(list).collect())\n",
    "weather_data_rdd = weather_data_rdd.groupByKey().mapValues(list)"
   ]
  },
  {
   "cell_type": "code",
   "execution_count": 10,
   "metadata": {
    "collapsed": false,
    "deletable": true,
    "editable": true
   },
   "outputs": [],
   "source": [
    "import csv\n",
    "from dateutil.parser import parse\n",
    "\n",
    "def map_collision_hours(idx, part):\n",
    "    if idx == 0:\n",
    "        part.next()\n",
    "    for p in csv.reader(part):\n",
    "        datehour = str(parse(p[7])).split(':')[0]\n",
    "        p[7] = str(parse(p[7]))\n",
    "        yield (datehour, p)\n",
    "\n",
    "nypd_collisions_rdd = nypd_collisions.mapPartitionsWithIndex(map_collision_hours)\n",
    "# nypd_collisions_rdd.take(5)"
   ]
  },
  {
   "cell_type": "code",
   "execution_count": 11,
   "metadata": {
    "collapsed": false,
    "deletable": true,
    "editable": true
   },
   "outputs": [],
   "source": [
    "joined_data = nypd_collisions_rdd.join(weather_data_rdd)"
   ]
  },
  {
   "cell_type": "code",
   "execution_count": 42,
   "metadata": {
    "collapsed": false,
    "deletable": true,
    "editable": true
   },
   "outputs": [],
   "source": [
    "# joined_data_collected = joined_data.collect()"
   ]
  },
  {
   "cell_type": "code",
   "execution_count": 8,
   "metadata": {
    "collapsed": false,
    "deletable": true,
    "editable": true
   },
   "outputs": [],
   "source": [
    "# joined_data_collected[0]"
   ]
  },
  {
   "cell_type": "code",
   "execution_count": 9,
   "metadata": {
    "collapsed": false,
    "deletable": true,
    "editable": true
   },
   "outputs": [],
   "source": [
    "# x = joined_data.take(1)[0]\n",
    "# datehour, tupled_lists = x[0], x[1]\n",
    "# tuple_weather = tupled_lists[1]\n",
    "# tuple_weather[0]\n",
    "# x[1][1][0]"
   ]
  },
  {
   "cell_type": "code",
   "execution_count": 12,
   "metadata": {
    "collapsed": false,
    "deletable": true,
    "editable": true
   },
   "outputs": [],
   "source": [
    "from pyspark.sql import Row\n",
    "final_join=joined_data.map(lambda x: x[1][0] + x[1][1][0])"
   ]
  },
  {
   "cell_type": "code",
   "execution_count": 13,
   "metadata": {
    "collapsed": false,
    "deletable": true,
    "editable": true
   },
   "outputs": [],
   "source": [
    "from pyspark.sql.types import StructType, StructField, StringType\n",
    "schema = StructType([StructField('BOROUGH', StringType()),\n",
    "                    StructField('CONTRIBUTING_FACTOR_VEHICLE_1', StringType()),\n",
    "                    StructField('CONTRIBUTING_FACTOR_VEHICLE_2', StringType()),\n",
    "                    StructField('CONTRIBUTING_FACTOR_VEHICLE_3', StringType()),\n",
    "                    StructField('CONTRIBUTING_FACTOR_VEHICLE_4', StringType()),\n",
    "                    StructField('CONTRIBUTING_FACTOR_VEHICLE_5', StringType()),\n",
    "                    StructField('CROSS_STREET_NAME', StringType()),\n",
    "                    StructField('DATETIME', StringType()),\n",
    "                    StructField('LATITUDE', StringType()),\n",
    "                    StructField('LOCATION', StringType()),\n",
    "                    StructField('LONGITUDE', StringType()),\n",
    "                    StructField('NUMBER_OF_CYCLIST_INJURED', StringType()),\n",
    "                    StructField('NUMBER_OF_CYCLIST_KILLED', StringType()),\n",
    "                    StructField('NUMBER_OF_MOTORIST_INJURED', StringType()),\n",
    "                    StructField('NUMBER_OF_MOTORIST_KILLED', StringType()),\n",
    "                    StructField('NUMBER_OF_PEDESTRIANS_INJURED', StringType()),\n",
    "                    StructField('NUMBER_OF_PEDESTRIANS_KILLED', StringType()),\n",
    "                    StructField('NUMBER_OF_PERSONS_INJURED', StringType()),\n",
    "                    StructField('NUMBER_OF_PERSONS_KILLED', StringType()),\n",
    "                    StructField('OFF_STREET_NAME', StringType()),\n",
    "                    StructField('ON_STREET_NAME', StringType()),\n",
    "                    StructField('UNIQUE_KEY', StringType()),\n",
    "                    StructField('VEHICLE_TYPE_CODE_1', StringType()),\n",
    "                    StructField('VEHICLE_TYPE_CODE_2', StringType()),\n",
    "                    StructField('VEHICLE_TYPE_CODE_3', StringType()),\n",
    "                    StructField('VEHICLE_TYPE_CODE_4', StringType()),\n",
    "                    StructField('VEHICLE_TYPE_CODE_5', StringType()),\n",
    "                    StructField('ZIP_CODE', StringType()),\n",
    "                    StructField('', StringType()),\n",
    "                    StructField('Conditions', StringType()),\n",
    "                    StructField('DateUTC', StringType()),\n",
    "                    StructField('DatetimeEDT', StringType()),\n",
    "                    StructField('Dew_PointF', StringType()),\n",
    "                    StructField('Events', StringType()),\n",
    "                    StructField('Freezing', StringType()),\n",
    "                    StructField('Gust_SpeedMPH', StringType()),\n",
    "                    StructField('Humidity', StringType()),\n",
    "                    StructField('LowVisibility', StringType()),                     \n",
    "                    StructField('PrecipitationIn', StringType()),\n",
    "                    StructField('Rain', StringType()),\n",
    "                    StructField('Sea_Level_PressureIn', StringType()),\n",
    "                    StructField('Snow', StringType()),\n",
    "                    StructField('TemperatureF', StringType()),\n",
    "                    StructField('TimeEDT', StringType()),\n",
    "                    StructField('VisibilityMPH', StringType()),\n",
    "                    StructField('WindDirDegrees', StringType()),\n",
    "                    StructField('Wind_Direction', StringType()),\n",
    "                    StructField('Wind_SpeedMPH', StringType()),\n",
    "                    StructField('Windy', StringType())])"
   ]
  },
  {
   "cell_type": "code",
   "execution_count": 14,
   "metadata": {
    "collapsed": false,
    "deletable": true,
    "editable": true
   },
   "outputs": [],
   "source": [
    "final_join_df = sqlContext.createDataFrame(final_join, schema)"
   ]
  },
  {
   "cell_type": "code",
   "execution_count": 15,
   "metadata": {
    "collapsed": false,
    "deletable": true,
    "editable": true
   },
   "outputs": [
    {
     "data": {
      "text/plain": [
       "[Row(BOROUGH=u'QUEENS', CONTRIBUTING_FACTOR_VEHICLE_1=u'Unspecified', CONTRIBUTING_FACTOR_VEHICLE_2=u'Unspecified', CONTRIBUTING_FACTOR_VEHICLE_3=u'', CONTRIBUTING_FACTOR_VEHICLE_4=u'', CONTRIBUTING_FACTOR_VEHICLE_5=u'', CROSS_STREET_NAME=u'70 DRIVE', DATETIME=u'2016-06-20 21:06:00', LATITUDE=u'', LOCATION=u'', LONGITUDE=u'', NUMBER_OF_CYCLIST_INJURED=u'0', NUMBER_OF_CYCLIST_KILLED=u'0', NUMBER_OF_MOTORIST_INJURED=u'0', NUMBER_OF_MOTORIST_KILLED=u'0', NUMBER_OF_PEDESTRIANS_INJURED=u'0', NUMBER_OF_PEDESTRIANS_KILLED=u'0', NUMBER_OF_PERSONS_INJURED=u'0', NUMBER_OF_PERSONS_KILLED=u'0', OFF_STREET_NAME=u'', ON_STREET_NAME=u'METROPOLITAN AVENUE', UNIQUE_KEY=u'3465402', VEHICLE_TYPE_CODE_1=u'PASSENGER VEHICLE', VEHICLE_TYPE_CODE_2=u'PASSENGER VEHICLE', VEHICLE_TYPE_CODE_3=u'', VEHICLE_TYPE_CODE_4=u'', VEHICLE_TYPE_CODE_5=u'', ZIP_CODE=u'11375', =u'58671', Conditions=u'Clear', DateUTC=u'2016-06-21 01:51:00', DatetimeEDT=u'2016-06-20 21:51:00', Dew_PointF=u'63.0', Events=u'', Freezing=u'0', Gust_SpeedMPH=u'-', Humidity=u'60', LowVisibility=u'0', PrecipitationIn=u'N/A', Rain=u'0', Sea_Level_PressureIn=u'29.91', Snow=u'0', TemperatureF=u'78.1', TimeEDT=u'9:51 PM', VisibilityMPH=u'9.0', WindDirDegrees=u'0', Wind_Direction=u'Calm', Wind_SpeedMPH=u'Calm', Windy=u'0'),\n",
       " Row(BOROUGH=u'BROOKLYN', CONTRIBUTING_FACTOR_VEHICLE_1=u'Unspecified', CONTRIBUTING_FACTOR_VEHICLE_2=u'', CONTRIBUTING_FACTOR_VEHICLE_3=u'', CONTRIBUTING_FACTOR_VEHICLE_4=u'', CONTRIBUTING_FACTOR_VEHICLE_5=u'', CROSS_STREET_NAME=u'HERKIMER STREET', DATETIME=u'2016-07-01 17:07:00', LATITUDE=u'', LOCATION=u'', LONGITUDE=u'', NUMBER_OF_CYCLIST_INJURED=u'0', NUMBER_OF_CYCLIST_KILLED=u'0', NUMBER_OF_MOTORIST_INJURED=u'0', NUMBER_OF_MOTORIST_KILLED=u'0', NUMBER_OF_PEDESTRIANS_INJURED=u'1', NUMBER_OF_PEDESTRIANS_KILLED=u'0', NUMBER_OF_PERSONS_INJURED=u'1', NUMBER_OF_PERSONS_KILLED=u'0', OFF_STREET_NAME=u'', ON_STREET_NAME=u'EASTERN PARKWAY', UNIQUE_KEY=u'3494165', VEHICLE_TYPE_CODE_1=u'MOTORCYCLE', VEHICLE_TYPE_CODE_2=u'', VEHICLE_TYPE_CODE_3=u'', VEHICLE_TYPE_CODE_4=u'', VEHICLE_TYPE_CODE_5=u'', ZIP_CODE=u'11233', =u'58975', Conditions=u'Light Rain', DateUTC=u'2016-07-01 21:34:00', DatetimeEDT=u'2016-07-01 17:34:00', Dew_PointF=u'66.9', Events=u'Rain', Freezing=u'0', Gust_SpeedMPH=u'-', Humidity=u'84', LowVisibility=u'1', PrecipitationIn=u'0.01', Rain=u'1', Sea_Level_PressureIn=u'29.90', Snow=u'0', TemperatureF=u'72.0', TimeEDT=u'5:34 PM', VisibilityMPH=u'1.8', WindDirDegrees=u'0', Wind_Direction=u'Variable', Wind_SpeedMPH=u'4.6', Windy=u'0')]"
      ]
     },
     "execution_count": 15,
     "metadata": {},
     "output_type": "execute_result"
    }
   ],
   "source": [
    "# final_join_df.write.csv('joined_weather_collisions')\n",
    "# final_join_df.coalesce(1).write.csv('coalesce_joined_weather_collisions2', header=True)\n",
    "sorted_final_join = final_join_df.sort('DATETIME')\n",
    "sorted_final_join.take(2)"
   ]
  },
  {
   "cell_type": "code",
   "execution_count": 16,
   "metadata": {
    "collapsed": false,
    "deletable": true,
    "editable": true
   },
   "outputs": [],
   "source": [
    "sorted_final_join.coalesce(1).write.csv('coalesce_joined_weather_collisions_sorted_fixed', header=True)"
   ]
  },
  {
   "cell_type": "code",
   "execution_count": 18,
   "metadata": {
    "collapsed": false,
    "deletable": true,
    "editable": true
   },
   "outputs": [],
   "source": [
    "# len(final_join_df.columns)"
   ]
  },
  {
   "cell_type": "code",
   "execution_count": 19,
   "metadata": {
    "collapsed": false,
    "deletable": true,
    "editable": true
   },
   "outputs": [],
   "source": [
    "# list((nypd_collisions.first().split(',')))"
   ]
  },
  {
   "cell_type": "code",
   "execution_count": 20,
   "metadata": {
    "collapsed": false,
    "deletable": true,
    "editable": true
   },
   "outputs": [],
   "source": [
    "# list((weather_data.first().split(',')))"
   ]
  },
  {
   "cell_type": "code",
   "execution_count": 108,
   "metadata": {
    "collapsed": false,
    "deletable": true,
    "editable": true
   },
   "outputs": [],
   "source": [
    "# final_join.coalesce(1,True).saveAsTextFile('coalesce_join_collisions_weather')"
   ]
  },
  {
   "cell_type": "code",
   "execution_count": 17,
   "metadata": {
    "collapsed": false,
    "deletable": true,
    "editable": true
   },
   "outputs": [],
   "source": [
    "# final_join_df.coalesce(1).write.csv('coalesce_joined_weather_collisions2', header=True)"
   ]
  },
  {
   "cell_type": "code",
   "execution_count": null,
   "metadata": {
    "collapsed": true,
    "deletable": true,
    "editable": true
   },
   "outputs": [],
   "source": []
  }
 ],
 "metadata": {
  "kernelspec": {
   "display_name": "Python 2",
   "language": "python",
   "name": "python2"
  },
  "language_info": {
   "codemirror_mode": {
    "name": "ipython",
    "version": 2
   },
   "file_extension": ".py",
   "mimetype": "text/x-python",
   "name": "python",
   "nbconvert_exporter": "python",
   "pygments_lexer": "ipython2",
   "version": "2.7.12"
  }
 },
 "nbformat": 4,
 "nbformat_minor": 2
}
